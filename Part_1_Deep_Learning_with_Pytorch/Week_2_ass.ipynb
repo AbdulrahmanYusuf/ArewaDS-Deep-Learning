{
  "cells": [
    {
      "cell_type": "markdown",
      "metadata": {
        "id": "5eeaNmO9cEzk"
      },
      "source": [
        "\n",
        "## Arewa Data Science Academy\n",
        "### Deep Learning Cohort1.0\n",
        "\n",
        "#### Name: Abdulrahman Yusuf\n",
        "#### Email: audura2013@gmail.com\n",
        "#### Title: Week 2 Solution"
      ]
    },
    {
      "cell_type": "code",
      "execution_count": 35,
      "metadata": {
        "id": "Lgi-hsE4_Bwx"
      },
      "outputs": [],
      "source": [
        "import torch\n",
        "from torch import nn # to import nn contains all of PyTorch's building blocks for neural networks\n",
        "import matplotlib.pyplot as plt"
      ]
    },
    {
      "cell_type": "markdown",
      "metadata": {
        "id": "OEsHYmADPisL"
      },
      "source": [
        "**Q1: Create a straight line dataset using the linear regression formula (weight * X + bias).**\n",
        "\n",
        " * Set weight=0.3 and bias=0.9 there should be at least 100 datapoints total.\n",
        " * Split the data into 80% training, 20% testing.\n",
        " * Plot the training and testing data so it becomes visual."
      ]
    },
    {
      "cell_type": "code",
      "execution_count": 36,
      "metadata": {
        "colab": {
          "base_uri": "https://localhost:8080/"
        },
        "id": "fZdS1zKtED3T",
        "outputId": "2ba99ddd-50ce-4a99-a1d8-621335af37a1"
      },
      "outputs": [
        {
          "name": "stdout",
          "output_type": "stream",
          "text": [
            "tensor([[0.0000],\n",
            "        [0.0100],\n",
            "        [0.0200],\n",
            "        [0.0300],\n",
            "        [0.0400],\n",
            "        [0.0500],\n",
            "        [0.0600],\n",
            "        [0.0700],\n",
            "        [0.0800],\n",
            "        [0.0900]])\n",
            "tensor([[0.9000],\n",
            "        [0.9030],\n",
            "        [0.9060],\n",
            "        [0.9090],\n",
            "        [0.9120],\n",
            "        [0.9150],\n",
            "        [0.9180],\n",
            "        [0.9210],\n",
            "        [0.9240],\n",
            "        [0.9270]])\n",
            "Number of samples in X: torch.Size([100, 1])\n",
            "Number of sample in y: torch.Size([100, 1])\n"
          ]
        }
      ],
      "source": [
        "# Create *known* parameters\n",
        "weight = 0.3\n",
        "bias = 0.9\n",
        "\n",
        "# Create data with 100 data points\n",
        "start = 0\n",
        "end = 1\n",
        "step = 0.01\n",
        "X = torch.arange(start, end, step).unsqueeze(dim=1)\n",
        "y = weight * X + bias\n",
        "\n",
        "print(X[:10]), print(y[:10])\n",
        "print(f\"Number of samples in X: {X.shape}\")\n",
        "print(f\"Number of sample in y: {y.shape}\")\n"
      ]
    },
    {
      "cell_type": "code",
      "execution_count": 37,
      "metadata": {
        "colab": {
          "base_uri": "https://localhost:8080/"
        },
        "id": "DVOFEwRcHp2y",
        "outputId": "3dedc6c1-5501-4bff-8cce-fb4986099328"
      },
      "outputs": [
        {
          "data": {
            "text/plain": [
              "(80, 80, 20, 20)"
            ]
          },
          "execution_count": 37,
          "metadata": {},
          "output_type": "execute_result"
        }
      ],
      "source": [
        "# Create train/test by splitting\n",
        "train_partition = int(0.8 * len(X)) # 80% of data used for training set, 20% for testing\n",
        "X_train, y_train = X[:train_partition], y[:train_partition]\n",
        "X_test, y_test = X[train_partition:], y[train_partition:]\n",
        "\n",
        "len(X_train), len(y_train), len(X_test), len(y_test)"
      ]
    },
    {
      "cell_type": "code",
      "execution_count": 38,
      "metadata": {
        "id": "5z0MsMQTI1Rl"
      },
      "outputs": [],
      "source": [
        "# creat a function for ploting\n",
        "def plot_predictions(train_data=X_train,\n",
        "                     train_labels=y_train,\n",
        "                     test_data=X_test,\n",
        "                     test_labels=y_test,\n",
        "                     predictions=None):\n",
        "  \"\"\"\n",
        "  Plots training data, test data and compares predictions.\n",
        "  \"\"\"\n",
        "  plt.figure(figsize=(14, 10))\n",
        "\n",
        "  # Plot training data in blue\n",
        "  plt.scatter(train_data, train_labels, c=\"b\", s=4, label=\"Training data\")\n",
        "\n",
        "  # Plot test data in green\n",
        "  plt.scatter(test_data, test_labels, c=\"g\", s=4, label=\"Testing data\")\n",
        "\n",
        "  if predictions is not None:\n",
        "    # Plot the predictions in red (predictions were made on the test data)\n",
        "    plt.scatter(test_data, predictions, c=\"r\", s=4, label=\"Predictions\")\n",
        "\n",
        "  # Show the legend\n",
        "  plt.legend(prop={\"size\": 20});"
      ]
    },
    {
      "cell_type": "code",
      "execution_count": 39,
      "metadata": {
        "colab": {
          "base_uri": "https://localhost:8080/",
          "height": 830
        },
        "id": "s2tUzaScJvxh",
        "outputId": "f12011d1-779b-439d-f2bc-0e25774d1a54"
      },
      "outputs": [
        {
          "data": {
            "image/png": "[encoded data removed]",
            "text/plain": [
              "<Figure size 1400x1000 with 1 Axes>"
            ]
          },
          "metadata": {},
          "output_type": "display_data"
        }
      ],
      "source": [
        "plot_predictions();"
      ]
    },
    {
      "cell_type": "markdown",
      "metadata": {
        "id": "szNrFaSFQpMR"
      },
      "source": [
        "**Q2. Build a PyTorch model by subclassing nn.Module.**\n",
        "* Inside should be a randomly initialized nn.Parameter() with requires_grad=True, one for weights and one for bias.\n",
        "* Implement the forward() method to compute the linear regression function you used to create the dataset in 1.\n",
        "* Once you've constructed the model, make an instance of it and check its state_dict().\n",
        "**Note: If you'd like to use nn.Linear() instead of nn.Parameter() you can.*\n",
        "\n",
        "\n",
        "\n"
      ]
    },
    {
      "cell_type": "code",
      "execution_count": 40,
      "metadata": {
        "colab": {
          "base_uri": "https://localhost:8080/"
        },
        "id": "HK6rT4saLhZR",
        "outputId": "c7f88309-b0fb-41ca-abae-08f3206b67b3"
      },
      "outputs": [
        {
          "data": {
            "text/plain": [
              "(LinearRegressionModelV2(\n",
              "   (linear_layer): Linear(in_features=1, out_features=1, bias=True)\n",
              " ),\n",
              " OrderedDict([('linear_layer.weight', tensor([[0.7645]])),\n",
              "              ('linear_layer.bias', tensor([0.8300]))]))"
            ]
          },
          "execution_count": 40,
          "metadata": {},
          "output_type": "execute_result"
        }
      ],
      "source": [
        "# Subclass nn.Module to make our model\n",
        "class LinearRegressionModelV2(nn.Module):\n",
        "    def __init__(self):\n",
        "        super().__init__()\n",
        "        # Use nn.Linear() for creating the model parameters\n",
        "        self.linear_layer = nn.Linear(in_features=1,\n",
        "                                      out_features=1)\n",
        "\n",
        "    # Define the forward computation (input data x flows through nn.Linear())\n",
        "    def forward(self, x: torch.Tensor) -> torch.Tensor:\n",
        "        return self.linear_layer(x)\n",
        "\n",
        "# Set the manual seed when creating the model\n",
        "torch.manual_seed(42)\n",
        "model_2 = LinearRegressionModelV2()\n",
        "model_2, model_2.state_dict()"
      ]
    },
    {
      "cell_type": "code",
      "execution_count": 41,
      "metadata": {
        "colab": {
          "base_uri": "https://localhost:8080/"
        },
        "id": "Jd6oOSyjQQiM",
        "outputId": "c595c0af-7e2b-418d-9c47-54a251e1666f"
      },
      "outputs": [
        {
          "data": {
            "text/plain": [
              "device(type='cpu')"
            ]
          },
          "execution_count": 41,
          "metadata": {},
          "output_type": "execute_result"
        }
      ],
      "source": [
        "# Check model device\n",
        "next(model_2.parameters()).device"
      ]
    },
    {
      "cell_type": "code",
      "execution_count": 42,
      "metadata": {
        "id": "lEDwh0BesXMS"
      },
      "outputs": [],
      "source": [
        "# Set the device to be 'cuda' if available or \"cpu\" if not\n",
        "device = \"cuda\" if torch.cuda.is_available() else \"cpu\""
      ]
    },
    {
      "cell_type": "code",
      "execution_count": 43,
      "metadata": {
        "colab": {
          "base_uri": "https://localhost:8080/"
        },
        "id": "UlxxCcFlQh_6",
        "outputId": "54ba57c8-01c3-4efb-bdd3-e07960f5df69"
      },
      "outputs": [
        {
          "data": {
            "text/plain": [
              "device(type='cuda', index=0)"
            ]
          },
          "execution_count": 43,
          "metadata": {},
          "output_type": "execute_result"
        }
      ],
      "source": [
        "# Set model to GPU if it's availalble, otherwise it'll default to CPU\n",
        "model_2.to(device) # the device variable was set above to be \"cuda\" if available\n",
        "next(model_2.parameters()).device"
      ]
    },
    {
      "cell_type": "code",
      "execution_count": 44,
      "metadata": {
        "colab": {
          "base_uri": "https://localhost:8080/"
        },
        "id": "KI2F_VN6U2qD",
        "outputId": "2452006b-5ffa-47e2-fbb8-da3dce94c42b"
      },
      "outputs": [
        {
          "data": {
            "text/plain": [
              "[Parameter containing:\n",
              " tensor([[0.7645]], device='cuda:0', requires_grad=True),\n",
              " Parameter containing:\n",
              " tensor([0.8300], device='cuda:0', requires_grad=True)]"
            ]
          },
          "execution_count": 44,
          "metadata": {},
          "output_type": "execute_result"
        }
      ],
      "source": [
        "# Instantiate the model and put it to the target device\n",
        "model_2.to(device)\n",
        "list(model_2.parameters())"
      ]
    },
    {
      "cell_type": "markdown",
      "metadata": {
        "id": "2gyUCIoRSvgg"
      },
      "source": [
        "**Q3. Create a loss function and optimizer using nn.L1Loss() and torch.optim.SGD(params, lr) respectively.**\n",
        " * Set the learning rate of the optimizer to be 0.01 and the parameters to optimize should be the model parameters from the model you created in 2.\n",
        " * Write a training loop to perform the appropriate training steps for 300 epochs.\n",
        " * The training loop should test the model on the test dataset every 20 epochs."
      ]
    },
    {
      "cell_type": "code",
      "execution_count": 45,
      "metadata": {
        "id": "CjdTpe3VvCM9"
      },
      "outputs": [],
      "source": [
        "# Create loss function\n",
        "loss_fn = nn.L1Loss()\n",
        "\n",
        "# Create optimizer\n",
        "optimizer = torch.optim.SGD(params=model_2.parameters(), # optimize newly created model's parameters\n",
        "                            lr=0.01)"
      ]
    },
    {
      "cell_type": "code",
      "execution_count": 46,
      "metadata": {
        "colab": {
          "base_uri": "https://localhost:8080/"
        },
        "id": "FT6ohNYvC_sZ",
        "outputId": "ed1668dd-f3a2-464e-fd72-d436766428ec"
      },
      "outputs": [
        {
          "name": "stdout",
          "output_type": "stream",
          "text": [
            "Epoch: 0 | Train loss: 0.12756 | Test loss: 0.33650\n",
            "Epoch: 20 | Train loss: 0.08187 | Test loss: 0.21840\n",
            "Epoch: 40 | Train loss: 0.07207 | Test loss: 0.17459\n",
            "Epoch: 60 | Train loss: 0.06508 | Test loss: 0.15310\n",
            "Epoch: 80 | Train loss: 0.05823 | Test loss: 0.13678\n",
            "Epoch: 100 | Train loss: 0.05138 | Test loss: 0.12079\n",
            "Epoch: 120 | Train loss: 0.04453 | Test loss: 0.10447\n",
            "Epoch: 140 | Train loss: 0.03767 | Test loss: 0.08814\n",
            "Epoch: 160 | Train loss: 0.03082 | Test loss: 0.07216\n",
            "Epoch: 180 | Train loss: 0.02397 | Test loss: 0.05583\n",
            "Epoch: 200 | Train loss: 0.01712 | Test loss: 0.03950\n",
            "Epoch: 220 | Train loss: 0.01027 | Test loss: 0.02352\n",
            "Epoch: 240 | Train loss: 0.00342 | Test loss: 0.00719\n",
            "Epoch: 260 | Train loss: 0.00788 | Test loss: 0.00706\n",
            "Epoch: 280 | Train loss: 0.00788 | Test loss: 0.00706\n"
          ]
        }
      ],
      "source": [
        "torch.manual_seed(42)\n",
        "\n",
        "# Set the number of epochs\n",
        "epochs = 300\n",
        "\n",
        "# Put data on the available device\n",
        "# Without this, error will happen (not all model/data on device)\n",
        "X_train = X_train.to(device)\n",
        "X_test = X_test.to(device)\n",
        "y_train = y_train.to(device)\n",
        "y_test = y_test.to(device)\n",
        "\n",
        "for epoch in range(epochs):\n",
        "    ### Training\n",
        "    model_2.train() # train mode is on by default after construction\n",
        "\n",
        "    # 1. Forward pass\n",
        "    y_pred = model_2(X_train)\n",
        "\n",
        "    # 2. Calculate loss\n",
        "    loss = loss_fn(y_pred, y_train)\n",
        "\n",
        "    # 3. Zero grad optimizer\n",
        "    optimizer.zero_grad()\n",
        "\n",
        "    # 4. Loss backward\n",
        "    loss.backward()\n",
        "\n",
        "    # 5. Step the optimizer\n",
        "    optimizer.step()\n",
        "\n",
        "    ### Testing\n",
        "    model_2.eval() # put the model in evaluation mode for testing (inference)\n",
        "    # 1. Forward pass\n",
        "    with torch.inference_mode():\n",
        "        test_pred = model_2(X_test)\n",
        "\n",
        "        # 2. Calculate the loss\n",
        "        test_loss = loss_fn(test_pred, y_test)\n",
        "\n",
        "    if epoch % 20 == 0:\n",
        "        print(f\"Epoch: {epoch} | Train loss: {loss:.5f} | Test loss: {test_loss:.5f}\")"
      ]
    },
    {
      "cell_type": "markdown",
      "metadata": {
        "id": "SCx6Uc0-WNIM"
      },
      "source": [
        "**Q4. Make predictions with the trained model on the test data.**\n",
        " * Visualize these predictions against the original training and testing data (note: you may need to make sure the predictions are not on the GPU if you want to use non-CUDA-enabled libraries such as matplotlib to plot)"
      ]
    },
    {
      "cell_type": "code",
      "execution_count": 47,
      "metadata": {
        "colab": {
          "base_uri": "https://localhost:8080/",
          "height": 830
        },
        "id": "30-yy_aa_t3V",
        "outputId": "c3bbe7aa-e3d1-4774-b129-c3db924a8c97"
      },
      "outputs": [
        {
          "data": {
            "image/png": "[encoded data removed]",
            "text/plain": [
              "<Figure size 1400x1000 with 1 Axes>"
            ]
          },
          "metadata": {},
          "output_type": "display_data"
        }
      ],
      "source": [
        "# plot_predictions(predictions=y_preds) # -> won't work... data not on CPU\n",
        "\n",
        "# Put data on the CPU and plot it\n",
        "plot_predictions(predictions=test_pred.cpu())"
      ]
    },
    {
      "cell_type": "markdown",
      "metadata": {
        "id": "eKc6FgMCZR1G"
      },
      "source": [
        "**Q5. Save your trained model's state_dict() to file.**\n",
        " * Create a new instance of your model class you made in 2. and load in the state_dict() you just saved to it.\n",
        " * Perform predictions on your test data with the loaded model and confirm they match the original model predictions from 4."
      ]
    },
    {
      "cell_type": "code",
      "execution_count": 48,
      "metadata": {
        "colab": {
          "base_uri": "https://localhost:8080/"
        },
        "id": "TG47EUelHD6Q",
        "outputId": "76c8c14c-8922-4229-eafb-6a938bf02fff"
      },
      "outputs": [
        {
          "name": "stdout",
          "output_type": "stream",
          "text": [
            "Saving model to: models/01_pytorch_workflow_model_2.pth\n"
          ]
        }
      ],
      "source": [
        "from pathlib import Path\n",
        "\n",
        "# a. Create models directory\n",
        "MODEL_PATH = Path(\"models\")\n",
        "MODEL_PATH.mkdir(parents=True, exist_ok=True)\n",
        "\n",
        "# b. Create model save path\n",
        "MODEL_NAME = \"01_pytorch_workflow_model_2.pth\"\n",
        "MODEL_SAVE_PATH = MODEL_PATH / MODEL_NAME\n",
        "\n",
        "# c. Save the model state dict\n",
        "print(f\"Saving model to: {MODEL_SAVE_PATH}\")\n",
        "torch.save(obj=model_2.state_dict(), # only saving the state_dict() only saves the models learned parameters\n",
        "           f=MODEL_SAVE_PATH)"
      ]
    },
    {
      "cell_type": "code",
      "execution_count": 49,
      "metadata": {
        "colab": {
          "base_uri": "https://localhost:8080/"
        },
        "id": "eyr2a6tcIIC8",
        "outputId": "336972ca-2db2-4f0d-f746-e6b811ca136c"
      },
      "outputs": [
        {
          "name": "stdout",
          "output_type": "stream",
          "text": [
            "Loaded model:\n",
            "LinearRegressionModelV2(\n",
            "  (linear_layer): Linear(in_features=1, out_features=1, bias=True)\n",
            ")\n",
            "Model on device:\n",
            "cuda:0\n"
          ]
        }
      ],
      "source": [
        "# Instantiate a fresh instance of LinearRegressionModelV2\n",
        "loaded_model_2 = LinearRegressionModelV2()\n",
        "\n",
        "# Load model state dict\n",
        "loaded_model_2.load_state_dict(torch.load(MODEL_SAVE_PATH))\n",
        "\n",
        "# Put model to target device\n",
        "loaded_model_2.to(device)\n",
        "\n",
        "print(f\"Loaded model:\\n{loaded_model_2}\")\n",
        "print(f\"Model on device:\\n{next(loaded_model_2.parameters()).device}\")"
      ]
    },
    {
      "cell_type": "code",
      "execution_count": 50,
      "metadata": {
        "colab": {
          "base_uri": "https://localhost:8080/"
        },
        "id": "PHgf566vIrOM",
        "outputId": "15621ddd-1002-4c25-b28c-19e35192386d"
      },
      "outputs": [
        {
          "data": {
            "text/plain": [
              "tensor([[True],\n",
              "        [True],\n",
              "        [True],\n",
              "        [True],\n",
              "        [True],\n",
              "        [True],\n",
              "        [True],\n",
              "        [True],\n",
              "        [True],\n",
              "        [True],\n",
              "        [True],\n",
              "        [True],\n",
              "        [True],\n",
              "        [True],\n",
              "        [True],\n",
              "        [True],\n",
              "        [True],\n",
              "        [True],\n",
              "        [True],\n",
              "        [True]], device='cuda:0')"
            ]
          },
          "execution_count": 50,
          "metadata": {},
          "output_type": "execute_result"
        }
      ],
      "source": [
        "# Evaluate loaded model and compare them to the previous\n",
        "loaded_model_2.eval()\n",
        "with torch.inference_mode():\n",
        "    loaded_model_2_preds = loaded_model_2(X_test)\n",
        "test_pred == loaded_model_2_preds"
      ]
    },
    {
      "cell_type": "code",
      "execution_count": 51,
      "metadata": {
        "colab": {
          "base_uri": "https://localhost:8080/"
        },
        "id": "SpR65zyvZugC",
        "outputId": "9c1b1db1-5f8f-42e1-80a1-81e9f90a1e34"
      },
      "outputs": [
        {
          "data": {
            "text/plain": [
              "OrderedDict([('linear_layer.weight', tensor([[0.3028]], device='cuda:0')),\n",
              "             ('linear_layer.bias', tensor([0.8910], device='cuda:0'))])"
            ]
          },
          "execution_count": 51,
          "metadata": {},
          "output_type": "execute_result"
        }
      ],
      "source": [
        "loaded_model_2.state_dict()"
      ]
    }
  ],
  "metadata": {
    "accelerator": "GPU",
    "colab": {
      "gpuType": "T4",
      "provenance": []
    },
    "kernelspec": {
      "display_name": "Python 3",
      "name": "python3"
    },
    "language_info": {
      "name": "python"
    }
  },
  "nbformat": 4,
  "nbformat_minor": 0
}
