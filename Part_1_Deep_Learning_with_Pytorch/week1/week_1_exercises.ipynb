{
  "cells": [
    {
      "cell_type": "markdown",
      "metadata": {},
      "source": [
        "## Arewa Data Science Academy\n",
        "### Deep Learning Cohort1.0\n",
        "\n",
        "#### Name: Abdulrahman Yusuf\n",
        "#### Email: audura2013@gmail.com\n",
        "#### Title: Week 1 Solution"
      ]
    },
    {
      "cell_type": "code",
      "execution_count": 2,
      "metadata": {
        "id": "xsFdG8hAqn2d"
      },
      "outputs": [],
      "source": [
        "import torch\n",
        "import random"
      ]
    },
    {
      "cell_type": "code",
      "execution_count": 3,
      "metadata": {
        "colab": {
          "base_uri": "https://localhost:8080/"
        },
        "id": "xGf6tdZlZuqQ",
        "outputId": "983ac3ed-91ee-4e32-f754-6e3b3fd40380"
      },
      "outputs": [
        {
          "data": {
            "text/plain": [
              "tensor([[0.3450, 0.8720, 0.9598, 0.2645, 0.3541, 0.4297, 0.6647],\n",
              "        [0.0057, 0.0112, 0.5115, 0.9058, 0.9094, 0.7625, 0.6441],\n",
              "        [0.8778, 0.5759, 0.3240, 0.9175, 0.4520, 0.3294, 0.2131],\n",
              "        [0.7771, 0.2319, 0.9948, 0.8812, 0.8307, 0.4557, 0.7334],\n",
              "        [0.7917, 0.3892, 0.0600, 0.3200, 0.1702, 0.0868, 0.7133],\n",
              "        [0.5057, 0.2033, 0.6818, 0.5775, 0.4035, 0.3287, 0.0521],\n",
              "        [0.8662, 0.3234, 0.0031, 0.6716, 0.9963, 0.1485, 0.6250]])"
            ]
          },
          "execution_count": 3,
          "metadata": {},
          "output_type": "execute_result"
        }
      ],
      "source": [
        "#  Q2: Solution\n",
        "# Creating 7 by 7 random tensor\n",
        "random_7x7 = torch.rand(size=(7,7))\n",
        "random_7x7"
      ]
    },
    {
      "cell_type": "code",
      "execution_count": 4,
      "metadata": {
        "colab": {
          "base_uri": "https://localhost:8080/"
        },
        "id": "bZy2slqnaUz1",
        "outputId": "93019269-90a9-4678-9987-de3fc09be618"
      },
      "outputs": [
        {
          "data": {
            "text/plain": [
              "tensor([[2.0961],\n",
              "        [1.3953],\n",
              "        [1.9189],\n",
              "        [2.1739],\n",
              "        [1.7993],\n",
              "        [1.1009],\n",
              "        [1.9590]])"
            ]
          },
          "execution_count": 4,
          "metadata": {},
          "output_type": "execute_result"
        }
      ],
      "source": [
        "#Q3: Solution\n",
        "#creating 1 by 7 tensor\n",
        "random_1x7 = torch.rand(size=(1,7))\n",
        "\n",
        "#Multifly 7 by 7 tensor of Q2 with tensor 1 by 7 tensor just created\n",
        "matrix_mult = torch.mm(random_7x7, random_1x7.T)\n",
        "matrix_mult"
      ]
    },
    {
      "cell_type": "code",
      "execution_count": 5,
      "metadata": {
        "colab": {
          "base_uri": "https://localhost:8080/"
        },
        "id": "b-26Oqeo9ZLr",
        "outputId": "3984b635-ef30-490c-a2a7-269a7aaa14e2"
      },
      "outputs": [
        {
          "name": "stdout",
          "output_type": "stream",
          "text": [
            "Input shape: torch.Size([7, 7])\n",
            "\n",
            "Output:\n",
            "tensor([[ 0.0904],\n",
            "        [-0.1691],\n",
            "        [ 0.0240],\n",
            "        [-0.2903],\n",
            "        [ 0.2473],\n",
            "        [-0.0591],\n",
            "        [ 0.0404]], grad_fn=<AddmmBackward0>)\n",
            "\n",
            "Output shape: torch.Size([7, 1])\n"
          ]
        }
      ],
      "source": [
        "#Q4: solution\n",
        "# Since the linear layer starts with a random weights matrix, let's make it reproducible (more on this later)\n",
        "torch.manual_seed(0)\n",
        "# This uses matrix multiplication\n",
        "linear = torch.nn.Linear(in_features=7, # in_features = matches inner dimension of input\n",
        "                         out_features=1) # out_features = describes outer value\n",
        "y = random_7x7\n",
        "matrix_mult = linear(y)\n",
        "print(f\"Input shape: {y.shape}\\n\")\n",
        "print(f\"Output:\\n{matrix_mult}\\n\\nOutput shape: {matrix_mult.shape}\")"
      ]
    },
    {
      "cell_type": "code",
      "execution_count": 13,
      "metadata": {
        "id": "tLu8cDMFas1C"
      },
      "outputs": [],
      "source": [
        "torch.cuda?"
      ]
    },
    {
      "cell_type": "code",
      "execution_count": 7,
      "metadata": {
        "colab": {
          "base_uri": "https://localhost:8080/"
        },
        "id": "rnT87XtPbL9X",
        "outputId": "05c2315d-3044-4bbc-ba4e-d36042efd2a8"
      },
      "outputs": [
        {
          "data": {
            "text/plain": [
              "True"
            ]
          },
          "execution_count": 7,
          "metadata": {},
          "output_type": "execute_result"
        }
      ],
      "source": [
        "#Q5: solution\n",
        "# idea from the documemtaion\n",
        "torch.cuda.is_available()"
      ]
    },
    {
      "cell_type": "code",
      "execution_count": 19,
      "metadata": {
        "colab": {
          "base_uri": "https://localhost:8080/"
        },
        "id": "QhBjCRQZKUW4",
        "outputId": "0290d4c2-7917-4f30-db78-973f4c1aadb0"
      },
      "outputs": [
        {
          "name": "stdout",
          "output_type": "stream",
          "text": [
            "cuda\n"
          ]
        }
      ],
      "source": [
        "device = \"cuda\" if torch.cuda.is_available() else \"cpu\"\n",
        "print(device)"
      ]
    },
    {
      "cell_type": "code",
      "execution_count": 16,
      "metadata": {
        "colab": {
          "base_uri": "https://localhost:8080/"
        },
        "id": "n4ONc2m4Ku_P",
        "outputId": "a9f745d7-b505-44b6-e055-c1dfc61ac160"
      },
      "outputs": [
        {
          "data": {
            "text/plain": [
              "1"
            ]
          },
          "execution_count": 16,
          "metadata": {},
          "output_type": "execute_result"
        }
      ],
      "source": [
        "# Count number of devices\n",
        "torch.cuda.device_count()"
      ]
    },
    {
      "cell_type": "code",
      "execution_count": 25,
      "metadata": {
        "colab": {
          "base_uri": "https://localhost:8080/"
        },
        "id": "4wtJIutgbXD-",
        "outputId": "fc42e996-e35b-45a5-903f-7c7cff8b0c03"
      },
      "outputs": [
        {
          "name": "stdout",
          "output_type": "stream",
          "text": [
            "Tensor_A: \n",
            "(tensor([[0.0290, 0.4019, 0.2598],\n",
            "        [0.3666, 0.0583, 0.7006]]), device(type='cpu'))\n",
            "\n",
            "Tensor_B: \n",
            "(tensor([[0.0518, 0.4681, 0.6738],\n",
            "        [0.3315, 0.7837, 0.5631]]), device(type='cpu'))\n",
            "\n",
            "\n",
            "tensor_A on GPU: \n",
            "tensor([[0.0290, 0.4019, 0.2598],\n",
            "        [0.3666, 0.0583, 0.7006]], device='cuda:0')\n",
            "tensor_B on GPU: \n",
            "tensor([[0.0518, 0.4681, 0.6738],\n",
            "        [0.3315, 0.7837, 0.5631]], device='cuda:0')\n"
          ]
        }
      ],
      "source": [
        "#Q6: Solution\n",
        "import torch\n",
        "import random\n",
        "\n",
        "torch.manual_seed(1234)\n",
        "tensor_A = torch.rand(size=(2,3))\n",
        "tensor_B = torch.rand(size=(2,3))\n",
        "\n",
        "# Tensors not on GPU\n",
        "print(f\"Tensor_A: \\n{tensor_A, tensor_A.device}\\n\")\n",
        "print(f\"Tensor_B: \\n{tensor_B, tensor_B.device}\\n\\n\")\n",
        "\n",
        "# Move tensors to GPU (if available)\n",
        "tensor_A_on_gpu = tensor_A.to(device)\n",
        "tensor_B_on_gpu = tensor_B.to(device)\n",
        "print(f\"tensor_A on GPU: \\n{tensor_A_on_gpu}\")\n",
        "print(f\"tensor_B on GPU: \\n{tensor_B_on_gpu}\")"
      ]
    },
    {
      "cell_type": "code",
      "execution_count": 9,
      "metadata": {
        "colab": {
          "base_uri": "https://localhost:8080/"
        },
        "id": "goUl7b-kPfAP",
        "outputId": "27d9ee5b-03d2-4e19-f0d3-eb9bd904dd4f"
      },
      "outputs": [
        {
          "name": "stdout",
          "output_type": "stream",
          "text": [
            "Output of tensor_A and tensor_B matrix mltiplcatin: \n",
            "tensor([[0.4759, 0.2931],\n",
            "        [0.6074, 0.5855]]) \n",
            "\n"
          ]
        }
      ],
      "source": [
        "#Q7: Solution\n",
        "#Matrix multiplication of two tensors of the same size\n",
        "result_AXB = tensor_A @ tensor_B.reshape(3,2)\n",
        "\n",
        "print(f\"Output of tensor_A and tensor_B matrix mltiplcatin: \\n{result_AXB} \\n\")"
      ]
    },
    {
      "cell_type": "code",
      "execution_count": 10,
      "metadata": {
        "colab": {
          "base_uri": "https://localhost:8080/"
        },
        "id": "eQ4Clgp1Q7qo",
        "outputId": "e2e0a3f9-5393-45b5-c8f9-2d154470f0f8"
      },
      "outputs": [
        {
          "name": "stdout",
          "output_type": "stream",
          "text": [
            "Maximum value of Q7 result: 0.6073753833770752\n",
            "\n",
            "Minimum value of Q7 result: 0.2930890917778015\n",
            "\n"
          ]
        }
      ],
      "source": [
        "#Q8: Solution - Output the maximum and minimum values of the result of multiplicatom matrix\n",
        "\n",
        "print(f\"Maximum value of Q7 result: {result_AXB.max()}\\n\")\n",
        "print(f\"Minimum value of Q7 result: {result_AXB.min()}\\n\")"
      ]
    },
    {
      "cell_type": "code",
      "execution_count": 11,
      "metadata": {
        "colab": {
          "base_uri": "https://localhost:8080/"
        },
        "id": "DbZ-Tf9xbe8y",
        "outputId": "b2fd94e0-7b09-438b-ac37-30286fbed255"
      },
      "outputs": [
        {
          "name": "stdout",
          "output_type": "stream",
          "text": [
            "Get maximum value position  of Q7 result: 2\n",
            "\n",
            "Get minimum value position of Q7 result: 1\n",
            "\n"
          ]
        }
      ],
      "source": [
        "#Q9: Solution - Get the position of max and min of Q7 matrix multiplication\n",
        "print(f\"Get maximum value position  of Q7 result: {result_AXB.argmax()}\\n\")\n",
        "print(f\"Get minimum value position of Q7 result: {result_AXB.argmin()}\\n\")"
      ]
    },
    {
      "cell_type": "code",
      "execution_count": 26,
      "metadata": {
        "colab": {
          "base_uri": "https://localhost:8080/"
        },
        "id": "sEtfAcn8ygPd",
        "outputId": "ca726db5-9ffd-4b2d-831b-1751c2196673"
      },
      "outputs": [
        {
          "name": "stdout",
          "output_type": "stream",
          "text": [
            "The first tensor created of Q10: \n",
            "tensor([[[[0.7749, 0.8208, 0.2793, 0.6817, 0.2837, 0.6567, 0.2388, 0.7313,\n",
            "           0.6012, 0.3043]]]])\n",
            "The shape of first created tensor of Q10: torch.Size([1, 1, 1, 10])\n",
            "\n",
            "The second tensor created of Q10: \n",
            "tensor([0.2548, 0.6294, 0.9665, 0.7399, 0.4517, 0.4757, 0.7842, 0.1525, 0.6662,\n",
            "        0.3343])\n",
            "The shape of second created tensor of Q10: torch.Size([10])\n"
          ]
        }
      ],
      "source": [
        "#Q10: solution\n",
        "\n",
        "import torch\n",
        "import random\n",
        "\n",
        "#creation of tensor with (1,1,1,10) shape\n",
        "random_tensor_Q10_A = torch.rand(size=(1, 1, 1, 10))\n",
        "\n",
        "random_tensor_Q10_B = random_tensor_Q10_A.squeeze()\n",
        "\n",
        "torch.manual_seed(7)\n",
        "print(f\"The first tensor created of Q10: \\n{random_tensor_Q10_A}\")\n",
        "print(f\"The shape of first created tensor of Q10: {random_tensor_Q10_A.shape}\\n\")\n",
        "print(f\"The second tensor created of Q10: \\n{random_tensor_Q10_B}\")\n",
        "print(f\"The shape of second created tensor of Q10: {random_tensor_Q10_B.shape}\")\n"
      ]
    }
  ],
  "metadata": {
    "accelerator": "GPU",
    "colab": {
      "gpuType": "T4",
      "provenance": [],
      "toc_visible": true
    },
    "kernelspec": {
      "display_name": "Python 3",
      "name": "python3"
    },
    "language_info": {
      "name": "python",
      "version": "3.10.11"
    }
  },
  "nbformat": 4,
  "nbformat_minor": 0
}
