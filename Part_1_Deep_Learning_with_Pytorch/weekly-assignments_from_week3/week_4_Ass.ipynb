{
  "nbformat": 4,
  "nbformat_minor": 0,
  "metadata": {
    "colab": {
      "provenance": [],
      "gpuType": "T4"
    },
    "kernelspec": {
      "name": "python3",
      "display_name": "Python 3"
    },
    "language_info": {
      "name": "python"
    },
    "accelerator": "GPU",
    "widgets": {
      "application/vnd.jupyter.widget-state+json": {
        "97372c821ceb417bac8e0dff5a6180d7": {
          "model_module": "@jupyter-widgets/controls",
          "model_name": "HBoxModel",
          "model_module_version": "1.5.0",
          "state": {
            "_dom_classes": [],
            "_model_module": "@jupyter-widgets/controls",
            "_model_module_version": "1.5.0",
            "_model_name": "HBoxModel",
            "_view_count": null,
            "_view_module": "@jupyter-widgets/controls",
            "_view_module_version": "1.5.0",
            "_view_name": "HBoxView",
            "box_style": "",
            "children": [
              "IPY_MODEL_dcc55713756a42a8ab95366eaa5922a2",
              "IPY_MODEL_972d6970c02c42bdb7ec1f7d15320816",
              "IPY_MODEL_b6aa09da91554a39bce3445b23672100"
            ],
            "layout": "IPY_MODEL_f4073dada616450dbec401a1d1f8e6d9"
          }
        },
        "dcc55713756a42a8ab95366eaa5922a2": {
          "model_module": "@jupyter-widgets/controls",
          "model_name": "HTMLModel",
          "model_module_version": "1.5.0",
          "state": {
            "_dom_classes": [],
            "_model_module": "@jupyter-widgets/controls",
            "_model_module_version": "1.5.0",
            "_model_name": "HTMLModel",
            "_view_count": null,
            "_view_module": "@jupyter-widgets/controls",
            "_view_module_version": "1.5.0",
            "_view_name": "HTMLView",
            "description": "",
            "description_tooltip": null,
            "layout": "IPY_MODEL_a188970d847f4654a5a70c624cfeab19",
            "placeholder": "​",
            "style": "IPY_MODEL_7843b4af52ac4a39a2abb0c155db5d33",
            "value": "100%"
          }
        },
        "972d6970c02c42bdb7ec1f7d15320816": {
          "model_module": "@jupyter-widgets/controls",
          "model_name": "FloatProgressModel",
          "model_module_version": "1.5.0",
          "state": {
            "_dom_classes": [],
            "_model_module": "@jupyter-widgets/controls",
            "_model_module_version": "1.5.0",
            "_model_name": "FloatProgressModel",
            "_view_count": null,
            "_view_module": "@jupyter-widgets/controls",
            "_view_module_version": "1.5.0",
            "_view_name": "ProgressView",
            "bar_style": "success",
            "description": "",
            "description_tooltip": null,
            "layout": "IPY_MODEL_2323d67ddf3a45a2844d71b5e003c98d",
            "max": 5,
            "min": 0,
            "orientation": "horizontal",
            "style": "IPY_MODEL_75bf281a0c404c3e85dc70022639092a",
            "value": 5
          }
        },
        "b6aa09da91554a39bce3445b23672100": {
          "model_module": "@jupyter-widgets/controls",
          "model_name": "HTMLModel",
          "model_module_version": "1.5.0",
          "state": {
            "_dom_classes": [],
            "_model_module": "@jupyter-widgets/controls",
            "_model_module_version": "1.5.0",
            "_model_name": "HTMLModel",
            "_view_count": null,
            "_view_module": "@jupyter-widgets/controls",
            "_view_module_version": "1.5.0",
            "_view_name": "HTMLView",
            "description": "",
            "description_tooltip": null,
            "layout": "IPY_MODEL_27d498ade5424a61927b7171880bc94f",
            "placeholder": "​",
            "style": "IPY_MODEL_9b46666a61744cc0955f7b656613f8c3",
            "value": " 5/5 [03:14&lt;00:00, 38.60s/it]"
          }
        },
        "f4073dada616450dbec401a1d1f8e6d9": {
          "model_module": "@jupyter-widgets/base",
          "model_name": "LayoutModel",
          "model_module_version": "1.2.0",
          "state": {
            "_model_module": "@jupyter-widgets/base",
            "_model_module_version": "1.2.0",
            "_model_name": "LayoutModel",
            "_view_count": null,
            "_view_module": "@jupyter-widgets/base",
            "_view_module_version": "1.2.0",
            "_view_name": "LayoutView",
            "align_content": null,
            "align_items": null,
            "align_self": null,
            "border": null,
            "bottom": null,
            "display": null,
            "flex": null,
            "flex_flow": null,
            "grid_area": null,
            "grid_auto_columns": null,
            "grid_auto_flow": null,
            "grid_auto_rows": null,
            "grid_column": null,
            "grid_gap": null,
            "grid_row": null,
            "grid_template_areas": null,
            "grid_template_columns": null,
            "grid_template_rows": null,
            "height": null,
            "justify_content": null,
            "justify_items": null,
            "left": null,
            "margin": null,
            "max_height": null,
            "max_width": null,
            "min_height": null,
            "min_width": null,
            "object_fit": null,
            "object_position": null,
            "order": null,
            "overflow": null,
            "overflow_x": null,
            "overflow_y": null,
            "padding": null,
            "right": null,
            "top": null,
            "visibility": null,
            "width": null
          }
        },
        "a188970d847f4654a5a70c624cfeab19": {
          "model_module": "@jupyter-widgets/base",
          "model_name": "LayoutModel",
          "model_module_version": "1.2.0",
          "state": {
            "_model_module": "@jupyter-widgets/base",
            "_model_module_version": "1.2.0",
            "_model_name": "LayoutModel",
            "_view_count": null,
            "_view_module": "@jupyter-widgets/base",
            "_view_module_version": "1.2.0",
            "_view_name": "LayoutView",
            "align_content": null,
            "align_items": null,
            "align_self": null,
            "border": null,
            "bottom": null,
            "display": null,
            "flex": null,
            "flex_flow": null,
            "grid_area": null,
            "grid_auto_columns": null,
            "grid_auto_flow": null,
            "grid_auto_rows": null,
            "grid_column": null,
            "grid_gap": null,
            "grid_row": null,
            "grid_template_areas": null,
            "grid_template_columns": null,
            "grid_template_rows": null,
            "height": null,
            "justify_content": null,
            "justify_items": null,
            "left": null,
            "margin": null,
            "max_height": null,
            "max_width": null,
            "min_height": null,
            "min_width": null,
            "object_fit": null,
            "object_position": null,
            "order": null,
            "overflow": null,
            "overflow_x": null,
            "overflow_y": null,
            "padding": null,
            "right": null,
            "top": null,
            "visibility": null,
            "width": null
          }
        },
        "7843b4af52ac4a39a2abb0c155db5d33": {
          "model_module": "@jupyter-widgets/controls",
          "model_name": "DescriptionStyleModel",
          "model_module_version": "1.5.0",
          "state": {
            "_model_module": "@jupyter-widgets/controls",
            "_model_module_version": "1.5.0",
            "_model_name": "DescriptionStyleModel",
            "_view_count": null,
            "_view_module": "@jupyter-widgets/base",
            "_view_module_version": "1.2.0",
            "_view_name": "StyleView",
            "description_width": ""
          }
        },
        "2323d67ddf3a45a2844d71b5e003c98d": {
          "model_module": "@jupyter-widgets/base",
          "model_name": "LayoutModel",
          "model_module_version": "1.2.0",
          "state": {
            "_model_module": "@jupyter-widgets/base",
            "_model_module_version": "1.2.0",
            "_model_name": "LayoutModel",
            "_view_count": null,
            "_view_module": "@jupyter-widgets/base",
            "_view_module_version": "1.2.0",
            "_view_name": "LayoutView",
            "align_content": null,
            "align_items": null,
            "align_self": null,
            "border": null,
            "bottom": null,
            "display": null,
            "flex": null,
            "flex_flow": null,
            "grid_area": null,
            "grid_auto_columns": null,
            "grid_auto_flow": null,
            "grid_auto_rows": null,
            "grid_column": null,
            "grid_gap": null,
            "grid_row": null,
            "grid_template_areas": null,
            "grid_template_columns": null,
            "grid_template_rows": null,
            "height": null,
            "justify_content": null,
            "justify_items": null,
            "left": null,
            "margin": null,
            "max_height": null,
            "max_width": null,
            "min_height": null,
            "min_width": null,
            "object_fit": null,
            "object_position": null,
            "order": null,
            "overflow": null,
            "overflow_x": null,
            "overflow_y": null,
            "padding": null,
            "right": null,
            "top": null,
            "visibility": null,
            "width": null
          }
        },
        "75bf281a0c404c3e85dc70022639092a": {
          "model_module": "@jupyter-widgets/controls",
          "model_name": "ProgressStyleModel",
          "model_module_version": "1.5.0",
          "state": {
            "_model_module": "@jupyter-widgets/controls",
            "_model_module_version": "1.5.0",
            "_model_name": "ProgressStyleModel",
            "_view_count": null,
            "_view_module": "@jupyter-widgets/base",
            "_view_module_version": "1.2.0",
            "_view_name": "StyleView",
            "bar_color": null,
            "description_width": ""
          }
        },
        "27d498ade5424a61927b7171880bc94f": {
          "model_module": "@jupyter-widgets/base",
          "model_name": "LayoutModel",
          "model_module_version": "1.2.0",
          "state": {
            "_model_module": "@jupyter-widgets/base",
            "_model_module_version": "1.2.0",
            "_model_name": "LayoutModel",
            "_view_count": null,
            "_view_module": "@jupyter-widgets/base",
            "_view_module_version": "1.2.0",
            "_view_name": "LayoutView",
            "align_content": null,
            "align_items": null,
            "align_self": null,
            "border": null,
            "bottom": null,
            "display": null,
            "flex": null,
            "flex_flow": null,
            "grid_area": null,
            "grid_auto_columns": null,
            "grid_auto_flow": null,
            "grid_auto_rows": null,
            "grid_column": null,
            "grid_gap": null,
            "grid_row": null,
            "grid_template_areas": null,
            "grid_template_columns": null,
            "grid_template_rows": null,
            "height": null,
            "justify_content": null,
            "justify_items": null,
            "left": null,
            "margin": null,
            "max_height": null,
            "max_width": null,
            "min_height": null,
            "min_width": null,
            "object_fit": null,
            "object_position": null,
            "order": null,
            "overflow": null,
            "overflow_x": null,
            "overflow_y": null,
            "padding": null,
            "right": null,
            "top": null,
            "visibility": null,
            "width": null
          }
        },
        "9b46666a61744cc0955f7b656613f8c3": {
          "model_module": "@jupyter-widgets/controls",
          "model_name": "DescriptionStyleModel",
          "model_module_version": "1.5.0",
          "state": {
            "_model_module": "@jupyter-widgets/controls",
            "_model_module_version": "1.5.0",
            "_model_name": "DescriptionStyleModel",
            "_view_count": null,
            "_view_module": "@jupyter-widgets/base",
            "_view_module_version": "1.2.0",
            "_view_name": "StyleView",
            "description_width": ""
          }
        },
        "132cbe28bdc84cb6a8422454da537b5d": {
          "model_module": "@jupyter-widgets/controls",
          "model_name": "HBoxModel",
          "model_module_version": "1.5.0",
          "state": {
            "_dom_classes": [],
            "_model_module": "@jupyter-widgets/controls",
            "_model_module_version": "1.5.0",
            "_model_name": "HBoxModel",
            "_view_count": null,
            "_view_module": "@jupyter-widgets/controls",
            "_view_module_version": "1.5.0",
            "_view_name": "HBoxView",
            "box_style": "",
            "children": [
              "IPY_MODEL_d3fcf77cff03497f9356725320625370",
              "IPY_MODEL_27bc759d95c0459e8db923833aee42ab",
              "IPY_MODEL_ff8620e833c74f9cb14c3394504bfcd7"
            ],
            "layout": "IPY_MODEL_8c9a1af3360b4a7a9068d7ac6d87e0ad"
          }
        },
        "d3fcf77cff03497f9356725320625370": {
          "model_module": "@jupyter-widgets/controls",
          "model_name": "HTMLModel",
          "model_module_version": "1.5.0",
          "state": {
            "_dom_classes": [],
            "_model_module": "@jupyter-widgets/controls",
            "_model_module_version": "1.5.0",
            "_model_name": "HTMLModel",
            "_view_count": null,
            "_view_module": "@jupyter-widgets/controls",
            "_view_module_version": "1.5.0",
            "_view_name": "HTMLView",
            "description": "",
            "description_tooltip": null,
            "layout": "IPY_MODEL_9f3adc5acef34b6a8b2eb75a6cf5f5d1",
            "placeholder": "​",
            "style": "IPY_MODEL_1dc3c9118189420990aae6436027b547",
            "value": "100%"
          }
        },
        "27bc759d95c0459e8db923833aee42ab": {
          "model_module": "@jupyter-widgets/controls",
          "model_name": "FloatProgressModel",
          "model_module_version": "1.5.0",
          "state": {
            "_dom_classes": [],
            "_model_module": "@jupyter-widgets/controls",
            "_model_module_version": "1.5.0",
            "_model_name": "FloatProgressModel",
            "_view_count": null,
            "_view_module": "@jupyter-widgets/controls",
            "_view_module_version": "1.5.0",
            "_view_name": "ProgressView",
            "bar_style": "success",
            "description": "",
            "description_tooltip": null,
            "layout": "IPY_MODEL_8dd26680668a447db6ff1de960bb3cf2",
            "max": 5,
            "min": 0,
            "orientation": "horizontal",
            "style": "IPY_MODEL_f99003c5b4774ad8b0969cfc68e62fd5",
            "value": 5
          }
        },
        "ff8620e833c74f9cb14c3394504bfcd7": {
          "model_module": "@jupyter-widgets/controls",
          "model_name": "HTMLModel",
          "model_module_version": "1.5.0",
          "state": {
            "_dom_classes": [],
            "_model_module": "@jupyter-widgets/controls",
            "_model_module_version": "1.5.0",
            "_model_name": "HTMLModel",
            "_view_count": null,
            "_view_module": "@jupyter-widgets/controls",
            "_view_module_version": "1.5.0",
            "_view_name": "HTMLView",
            "description": "",
            "description_tooltip": null,
            "layout": "IPY_MODEL_d0b0df9723c945aea5dc0c9a47c2b511",
            "placeholder": "​",
            "style": "IPY_MODEL_cce238de72da4ac989bd260cfb04b8d6",
            "value": " 5/5 [01:05&lt;00:00, 13.34s/it]"
          }
        },
        "8c9a1af3360b4a7a9068d7ac6d87e0ad": {
          "model_module": "@jupyter-widgets/base",
          "model_name": "LayoutModel",
          "model_module_version": "1.2.0",
          "state": {
            "_model_module": "@jupyter-widgets/base",
            "_model_module_version": "1.2.0",
            "_model_name": "LayoutModel",
            "_view_count": null,
            "_view_module": "@jupyter-widgets/base",
            "_view_module_version": "1.2.0",
            "_view_name": "LayoutView",
            "align_content": null,
            "align_items": null,
            "align_self": null,
            "border": null,
            "bottom": null,
            "display": null,
            "flex": null,
            "flex_flow": null,
            "grid_area": null,
            "grid_auto_columns": null,
            "grid_auto_flow": null,
            "grid_auto_rows": null,
            "grid_column": null,
            "grid_gap": null,
            "grid_row": null,
            "grid_template_areas": null,
            "grid_template_columns": null,
            "grid_template_rows": null,
            "height": null,
            "justify_content": null,
            "justify_items": null,
            "left": null,
            "margin": null,
            "max_height": null,
            "max_width": null,
            "min_height": null,
            "min_width": null,
            "object_fit": null,
            "object_position": null,
            "order": null,
            "overflow": null,
            "overflow_x": null,
            "overflow_y": null,
            "padding": null,
            "right": null,
            "top": null,
            "visibility": null,
            "width": null
          }
        },
        "9f3adc5acef34b6a8b2eb75a6cf5f5d1": {
          "model_module": "@jupyter-widgets/base",
          "model_name": "LayoutModel",
          "model_module_version": "1.2.0",
          "state": {
            "_model_module": "@jupyter-widgets/base",
            "_model_module_version": "1.2.0",
            "_model_name": "LayoutModel",
            "_view_count": null,
            "_view_module": "@jupyter-widgets/base",
            "_view_module_version": "1.2.0",
            "_view_name": "LayoutView",
            "align_content": null,
            "align_items": null,
            "align_self": null,
            "border": null,
            "bottom": null,
            "display": null,
            "flex": null,
            "flex_flow": null,
            "grid_area": null,
            "grid_auto_columns": null,
            "grid_auto_flow": null,
            "grid_auto_rows": null,
            "grid_column": null,
            "grid_gap": null,
            "grid_row": null,
            "grid_template_areas": null,
            "grid_template_columns": null,
            "grid_template_rows": null,
            "height": null,
            "justify_content": null,
            "justify_items": null,
            "left": null,
            "margin": null,
            "max_height": null,
            "max_width": null,
            "min_height": null,
            "min_width": null,
            "object_fit": null,
            "object_position": null,
            "order": null,
            "overflow": null,
            "overflow_x": null,
            "overflow_y": null,
            "padding": null,
            "right": null,
            "top": null,
            "visibility": null,
            "width": null
          }
        },
        "1dc3c9118189420990aae6436027b547": {
          "model_module": "@jupyter-widgets/controls",
          "model_name": "DescriptionStyleModel",
          "model_module_version": "1.5.0",
          "state": {
            "_model_module": "@jupyter-widgets/controls",
            "_model_module_version": "1.5.0",
            "_model_name": "DescriptionStyleModel",
            "_view_count": null,
            "_view_module": "@jupyter-widgets/base",
            "_view_module_version": "1.2.0",
            "_view_name": "StyleView",
            "description_width": ""
          }
        },
        "8dd26680668a447db6ff1de960bb3cf2": {
          "model_module": "@jupyter-widgets/base",
          "model_name": "LayoutModel",
          "model_module_version": "1.2.0",
          "state": {
            "_model_module": "@jupyter-widgets/base",
            "_model_module_version": "1.2.0",
            "_model_name": "LayoutModel",
            "_view_count": null,
            "_view_module": "@jupyter-widgets/base",
            "_view_module_version": "1.2.0",
            "_view_name": "LayoutView",
            "align_content": null,
            "align_items": null,
            "align_self": null,
            "border": null,
            "bottom": null,
            "display": null,
            "flex": null,
            "flex_flow": null,
            "grid_area": null,
            "grid_auto_columns": null,
            "grid_auto_flow": null,
            "grid_auto_rows": null,
            "grid_column": null,
            "grid_gap": null,
            "grid_row": null,
            "grid_template_areas": null,
            "grid_template_columns": null,
            "grid_template_rows": null,
            "height": null,
            "justify_content": null,
            "justify_items": null,
            "left": null,
            "margin": null,
            "max_height": null,
            "max_width": null,
            "min_height": null,
            "min_width": null,
            "object_fit": null,
            "object_position": null,
            "order": null,
            "overflow": null,
            "overflow_x": null,
            "overflow_y": null,
            "padding": null,
            "right": null,
            "top": null,
            "visibility": null,
            "width": null
          }
        },
        "f99003c5b4774ad8b0969cfc68e62fd5": {
          "model_module": "@jupyter-widgets/controls",
          "model_name": "ProgressStyleModel",
          "model_module_version": "1.5.0",
          "state": {
            "_model_module": "@jupyter-widgets/controls",
            "_model_module_version": "1.5.0",
            "_model_name": "ProgressStyleModel",
            "_view_count": null,
            "_view_module": "@jupyter-widgets/base",
            "_view_module_version": "1.2.0",
            "_view_name": "StyleView",
            "bar_color": null,
            "description_width": ""
          }
        },
        "d0b0df9723c945aea5dc0c9a47c2b511": {
          "model_module": "@jupyter-widgets/base",
          "model_name": "LayoutModel",
          "model_module_version": "1.2.0",
          "state": {
            "_model_module": "@jupyter-widgets/base",
            "_model_module_version": "1.2.0",
            "_model_name": "LayoutModel",
            "_view_count": null,
            "_view_module": "@jupyter-widgets/base",
            "_view_module_version": "1.2.0",
            "_view_name": "LayoutView",
            "align_content": null,
            "align_items": null,
            "align_self": null,
            "border": null,
            "bottom": null,
            "display": null,
            "flex": null,
            "flex_flow": null,
            "grid_area": null,
            "grid_auto_columns": null,
            "grid_auto_flow": null,
            "grid_auto_rows": null,
            "grid_column": null,
            "grid_gap": null,
            "grid_row": null,
            "grid_template_areas": null,
            "grid_template_columns": null,
            "grid_template_rows": null,
            "height": null,
            "justify_content": null,
            "justify_items": null,
            "left": null,
            "margin": null,
            "max_height": null,
            "max_width": null,
            "min_height": null,
            "min_width": null,
            "object_fit": null,
            "object_position": null,
            "order": null,
            "overflow": null,
            "overflow_x": null,
            "overflow_y": null,
            "padding": null,
            "right": null,
            "top": null,
            "visibility": null,
            "width": null
          }
        },
        "cce238de72da4ac989bd260cfb04b8d6": {
          "model_module": "@jupyter-widgets/controls",
          "model_name": "DescriptionStyleModel",
          "model_module_version": "1.5.0",
          "state": {
            "_model_module": "@jupyter-widgets/controls",
            "_model_module_version": "1.5.0",
            "_model_name": "DescriptionStyleModel",
            "_view_count": null,
            "_view_module": "@jupyter-widgets/base",
            "_view_module_version": "1.2.0",
            "_view_name": "StyleView",
            "description_width": ""
          }
        },
        "f52337c8bd3641f1b3853718ffa01fbc": {
          "model_module": "@jupyter-widgets/controls",
          "model_name": "HBoxModel",
          "model_module_version": "1.5.0",
          "state": {
            "_dom_classes": [],
            "_model_module": "@jupyter-widgets/controls",
            "_model_module_version": "1.5.0",
            "_model_name": "HBoxModel",
            "_view_count": null,
            "_view_module": "@jupyter-widgets/controls",
            "_view_module_version": "1.5.0",
            "_view_name": "HBoxView",
            "box_style": "",
            "children": [
              "IPY_MODEL_dea4b070c09a4ea392b8e4b375a55154",
              "IPY_MODEL_7d70d9e7938541ac92c20fab9ee2e2f3",
              "IPY_MODEL_964d85bf31c84b028c5c353decc78e53"
            ],
            "layout": "IPY_MODEL_7c908bce35374164a0adade0c31c7769"
          }
        },
        "dea4b070c09a4ea392b8e4b375a55154": {
          "model_module": "@jupyter-widgets/controls",
          "model_name": "HTMLModel",
          "model_module_version": "1.5.0",
          "state": {
            "_dom_classes": [],
            "_model_module": "@jupyter-widgets/controls",
            "_model_module_version": "1.5.0",
            "_model_name": "HTMLModel",
            "_view_count": null,
            "_view_module": "@jupyter-widgets/controls",
            "_view_module_version": "1.5.0",
            "_view_name": "HTMLView",
            "description": "",
            "description_tooltip": null,
            "layout": "IPY_MODEL_080a7c397cb144a8ab9248b01b2b5805",
            "placeholder": "​",
            "style": "IPY_MODEL_9cdb33619f55421695f5efa5789a0c06",
            "value": ""
          }
        },
        "7d70d9e7938541ac92c20fab9ee2e2f3": {
          "model_module": "@jupyter-widgets/controls",
          "model_name": "FloatProgressModel",
          "model_module_version": "1.5.0",
          "state": {
            "_dom_classes": [],
            "_model_module": "@jupyter-widgets/controls",
            "_model_module_version": "1.5.0",
            "_model_name": "FloatProgressModel",
            "_view_count": null,
            "_view_module": "@jupyter-widgets/controls",
            "_view_module_version": "1.5.0",
            "_view_name": "ProgressView",
            "bar_style": "success",
            "description": "",
            "description_tooltip": null,
            "layout": "IPY_MODEL_d7dfb62402534a2ca79627d6e8146675",
            "max": 1,
            "min": 0,
            "orientation": "horizontal",
            "style": "IPY_MODEL_9a050b5b4ea94b0595023a8776ba9d62",
            "value": 1
          }
        },
        "964d85bf31c84b028c5c353decc78e53": {
          "model_module": "@jupyter-widgets/controls",
          "model_name": "HTMLModel",
          "model_module_version": "1.5.0",
          "state": {
            "_dom_classes": [],
            "_model_module": "@jupyter-widgets/controls",
            "_model_module_version": "1.5.0",
            "_model_name": "HTMLModel",
            "_view_count": null,
            "_view_module": "@jupyter-widgets/controls",
            "_view_module_version": "1.5.0",
            "_view_name": "HTMLView",
            "description": "",
            "description_tooltip": null,
            "layout": "IPY_MODEL_7721a823f9844e4cbb769713ae2c3591",
            "placeholder": "​",
            "style": "IPY_MODEL_7cdd5bc0bff943b99a058cf3e2600d97",
            "value": " 313/? [00:01&lt;00:00, 191.11it/s]"
          }
        },
        "7c908bce35374164a0adade0c31c7769": {
          "model_module": "@jupyter-widgets/base",
          "model_name": "LayoutModel",
          "model_module_version": "1.2.0",
          "state": {
            "_model_module": "@jupyter-widgets/base",
            "_model_module_version": "1.2.0",
            "_model_name": "LayoutModel",
            "_view_count": null,
            "_view_module": "@jupyter-widgets/base",
            "_view_module_version": "1.2.0",
            "_view_name": "LayoutView",
            "align_content": null,
            "align_items": null,
            "align_self": null,
            "border": null,
            "bottom": null,
            "display": null,
            "flex": null,
            "flex_flow": null,
            "grid_area": null,
            "grid_auto_columns": null,
            "grid_auto_flow": null,
            "grid_auto_rows": null,
            "grid_column": null,
            "grid_gap": null,
            "grid_row": null,
            "grid_template_areas": null,
            "grid_template_columns": null,
            "grid_template_rows": null,
            "height": null,
            "justify_content": null,
            "justify_items": null,
            "left": null,
            "margin": null,
            "max_height": null,
            "max_width": null,
            "min_height": null,
            "min_width": null,
            "object_fit": null,
            "object_position": null,
            "order": null,
            "overflow": null,
            "overflow_x": null,
            "overflow_y": null,
            "padding": null,
            "right": null,
            "top": null,
            "visibility": null,
            "width": null
          }
        },
        "080a7c397cb144a8ab9248b01b2b5805": {
          "model_module": "@jupyter-widgets/base",
          "model_name": "LayoutModel",
          "model_module_version": "1.2.0",
          "state": {
            "_model_module": "@jupyter-widgets/base",
            "_model_module_version": "1.2.0",
            "_model_name": "LayoutModel",
            "_view_count": null,
            "_view_module": "@jupyter-widgets/base",
            "_view_module_version": "1.2.0",
            "_view_name": "LayoutView",
            "align_content": null,
            "align_items": null,
            "align_self": null,
            "border": null,
            "bottom": null,
            "display": null,
            "flex": null,
            "flex_flow": null,
            "grid_area": null,
            "grid_auto_columns": null,
            "grid_auto_flow": null,
            "grid_auto_rows": null,
            "grid_column": null,
            "grid_gap": null,
            "grid_row": null,
            "grid_template_areas": null,
            "grid_template_columns": null,
            "grid_template_rows": null,
            "height": null,
            "justify_content": null,
            "justify_items": null,
            "left": null,
            "margin": null,
            "max_height": null,
            "max_width": null,
            "min_height": null,
            "min_width": null,
            "object_fit": null,
            "object_position": null,
            "order": null,
            "overflow": null,
            "overflow_x": null,
            "overflow_y": null,
            "padding": null,
            "right": null,
            "top": null,
            "visibility": null,
            "width": null
          }
        },
        "9cdb33619f55421695f5efa5789a0c06": {
          "model_module": "@jupyter-widgets/controls",
          "model_name": "DescriptionStyleModel",
          "model_module_version": "1.5.0",
          "state": {
            "_model_module": "@jupyter-widgets/controls",
            "_model_module_version": "1.5.0",
            "_model_name": "DescriptionStyleModel",
            "_view_count": null,
            "_view_module": "@jupyter-widgets/base",
            "_view_module_version": "1.2.0",
            "_view_name": "StyleView",
            "description_width": ""
          }
        },
        "d7dfb62402534a2ca79627d6e8146675": {
          "model_module": "@jupyter-widgets/base",
          "model_name": "LayoutModel",
          "model_module_version": "1.2.0",
          "state": {
            "_model_module": "@jupyter-widgets/base",
            "_model_module_version": "1.2.0",
            "_model_name": "LayoutModel",
            "_view_count": null,
            "_view_module": "@jupyter-widgets/base",
            "_view_module_version": "1.2.0",
            "_view_name": "LayoutView",
            "align_content": null,
            "align_items": null,
            "align_self": null,
            "border": null,
            "bottom": null,
            "display": null,
            "flex": null,
            "flex_flow": null,
            "grid_area": null,
            "grid_auto_columns": null,
            "grid_auto_flow": null,
            "grid_auto_rows": null,
            "grid_column": null,
            "grid_gap": null,
            "grid_row": null,
            "grid_template_areas": null,
            "grid_template_columns": null,
            "grid_template_rows": null,
            "height": null,
            "justify_content": null,
            "justify_items": null,
            "left": null,
            "margin": null,
            "max_height": null,
            "max_width": null,
            "min_height": null,
            "min_width": null,
            "object_fit": null,
            "object_position": null,
            "order": null,
            "overflow": null,
            "overflow_x": null,
            "overflow_y": null,
            "padding": null,
            "right": null,
            "top": null,
            "visibility": null,
            "width": "20px"
          }
        },
        "9a050b5b4ea94b0595023a8776ba9d62": {
          "model_module": "@jupyter-widgets/controls",
          "model_name": "ProgressStyleModel",
          "model_module_version": "1.5.0",
          "state": {
            "_model_module": "@jupyter-widgets/controls",
            "_model_module_version": "1.5.0",
            "_model_name": "ProgressStyleModel",
            "_view_count": null,
            "_view_module": "@jupyter-widgets/base",
            "_view_module_version": "1.2.0",
            "_view_name": "StyleView",
            "bar_color": null,
            "description_width": ""
          }
        },
        "7721a823f9844e4cbb769713ae2c3591": {
          "model_module": "@jupyter-widgets/base",
          "model_name": "LayoutModel",
          "model_module_version": "1.2.0",
          "state": {
            "_model_module": "@jupyter-widgets/base",
            "_model_module_version": "1.2.0",
            "_model_name": "LayoutModel",
            "_view_count": null,
            "_view_module": "@jupyter-widgets/base",
            "_view_module_version": "1.2.0",
            "_view_name": "LayoutView",
            "align_content": null,
            "align_items": null,
            "align_self": null,
            "border": null,
            "bottom": null,
            "display": null,
            "flex": null,
            "flex_flow": null,
            "grid_area": null,
            "grid_auto_columns": null,
            "grid_auto_flow": null,
            "grid_auto_rows": null,
            "grid_column": null,
            "grid_gap": null,
            "grid_row": null,
            "grid_template_areas": null,
            "grid_template_columns": null,
            "grid_template_rows": null,
            "height": null,
            "justify_content": null,
            "justify_items": null,
            "left": null,
            "margin": null,
            "max_height": null,
            "max_width": null,
            "min_height": null,
            "min_width": null,
            "object_fit": null,
            "object_position": null,
            "order": null,
            "overflow": null,
            "overflow_x": null,
            "overflow_y": null,
            "padding": null,
            "right": null,
            "top": null,
            "visibility": null,
            "width": null
          }
        },
        "7cdd5bc0bff943b99a058cf3e2600d97": {
          "model_module": "@jupyter-widgets/controls",
          "model_name": "DescriptionStyleModel",
          "model_module_version": "1.5.0",
          "state": {
            "_model_module": "@jupyter-widgets/controls",
            "_model_module_version": "1.5.0",
            "_model_name": "DescriptionStyleModel",
            "_view_count": null,
            "_view_module": "@jupyter-widgets/base",
            "_view_module_version": "1.2.0",
            "_view_name": "StyleView",
            "description_width": ""
          }
        },
        "e1addf367f9d4499a603403d04b214ed": {
          "model_module": "@jupyter-widgets/controls",
          "model_name": "HBoxModel",
          "model_module_version": "1.5.0",
          "state": {
            "_dom_classes": [],
            "_model_module": "@jupyter-widgets/controls",
            "_model_module_version": "1.5.0",
            "_model_name": "HBoxModel",
            "_view_count": null,
            "_view_module": "@jupyter-widgets/controls",
            "_view_module_version": "1.5.0",
            "_view_name": "HBoxView",
            "box_style": "",
            "children": [
              "IPY_MODEL_cf79cc9863114f58954cb116ea7a53ea",
              "IPY_MODEL_e50c7e581f42469884d2a85786c32160",
              "IPY_MODEL_1322d708d5a14f07b8243205a5733a9d"
            ],
            "layout": "IPY_MODEL_e630fa14072240acbd92d15bd10e3d5b"
          }
        },
        "cf79cc9863114f58954cb116ea7a53ea": {
          "model_module": "@jupyter-widgets/controls",
          "model_name": "HTMLModel",
          "model_module_version": "1.5.0",
          "state": {
            "_dom_classes": [],
            "_model_module": "@jupyter-widgets/controls",
            "_model_module_version": "1.5.0",
            "_model_name": "HTMLModel",
            "_view_count": null,
            "_view_module": "@jupyter-widgets/controls",
            "_view_module_version": "1.5.0",
            "_view_name": "HTMLView",
            "description": "",
            "description_tooltip": null,
            "layout": "IPY_MODEL_2ed03a45ced04262afa89dd21c268b18",
            "placeholder": "​",
            "style": "IPY_MODEL_e31fe4c21f404fe8bfa53d8016f4fdec",
            "value": "100%"
          }
        },
        "e50c7e581f42469884d2a85786c32160": {
          "model_module": "@jupyter-widgets/controls",
          "model_name": "FloatProgressModel",
          "model_module_version": "1.5.0",
          "state": {
            "_dom_classes": [],
            "_model_module": "@jupyter-widgets/controls",
            "_model_module_version": "1.5.0",
            "_model_name": "FloatProgressModel",
            "_view_count": null,
            "_view_module": "@jupyter-widgets/controls",
            "_view_module_version": "1.5.0",
            "_view_name": "ProgressView",
            "bar_style": "success",
            "description": "",
            "description_tooltip": null,
            "layout": "IPY_MODEL_31291829af254e19ba2b27da9ff40f9a",
            "max": 5,
            "min": 0,
            "orientation": "horizontal",
            "style": "IPY_MODEL_31bc4948fef74a3b9dee8bcd67591b54",
            "value": 5
          }
        },
        "1322d708d5a14f07b8243205a5733a9d": {
          "model_module": "@jupyter-widgets/controls",
          "model_name": "HTMLModel",
          "model_module_version": "1.5.0",
          "state": {
            "_dom_classes": [],
            "_model_module": "@jupyter-widgets/controls",
            "_model_module_version": "1.5.0",
            "_model_name": "HTMLModel",
            "_view_count": null,
            "_view_module": "@jupyter-widgets/controls",
            "_view_module_version": "1.5.0",
            "_view_name": "HTMLView",
            "description": "",
            "description_tooltip": null,
            "layout": "IPY_MODEL_b11cb63e644c41f388a75dac5dc0bcdc",
            "placeholder": "​",
            "style": "IPY_MODEL_3684599371c0405587b58ec93d075703",
            "value": " 5/5 [01:11&lt;00:00, 14.17s/it]"
          }
        },
        "e630fa14072240acbd92d15bd10e3d5b": {
          "model_module": "@jupyter-widgets/base",
          "model_name": "LayoutModel",
          "model_module_version": "1.2.0",
          "state": {
            "_model_module": "@jupyter-widgets/base",
            "_model_module_version": "1.2.0",
            "_model_name": "LayoutModel",
            "_view_count": null,
            "_view_module": "@jupyter-widgets/base",
            "_view_module_version": "1.2.0",
            "_view_name": "LayoutView",
            "align_content": null,
            "align_items": null,
            "align_self": null,
            "border": null,
            "bottom": null,
            "display": null,
            "flex": null,
            "flex_flow": null,
            "grid_area": null,
            "grid_auto_columns": null,
            "grid_auto_flow": null,
            "grid_auto_rows": null,
            "grid_column": null,
            "grid_gap": null,
            "grid_row": null,
            "grid_template_areas": null,
            "grid_template_columns": null,
            "grid_template_rows": null,
            "height": null,
            "justify_content": null,
            "justify_items": null,
            "left": null,
            "margin": null,
            "max_height": null,
            "max_width": null,
            "min_height": null,
            "min_width": null,
            "object_fit": null,
            "object_position": null,
            "order": null,
            "overflow": null,
            "overflow_x": null,
            "overflow_y": null,
            "padding": null,
            "right": null,
            "top": null,
            "visibility": null,
            "width": null
          }
        },
        "2ed03a45ced04262afa89dd21c268b18": {
          "model_module": "@jupyter-widgets/base",
          "model_name": "LayoutModel",
          "model_module_version": "1.2.0",
          "state": {
            "_model_module": "@jupyter-widgets/base",
            "_model_module_version": "1.2.0",
            "_model_name": "LayoutModel",
            "_view_count": null,
            "_view_module": "@jupyter-widgets/base",
            "_view_module_version": "1.2.0",
            "_view_name": "LayoutView",
            "align_content": null,
            "align_items": null,
            "align_self": null,
            "border": null,
            "bottom": null,
            "display": null,
            "flex": null,
            "flex_flow": null,
            "grid_area": null,
            "grid_auto_columns": null,
            "grid_auto_flow": null,
            "grid_auto_rows": null,
            "grid_column": null,
            "grid_gap": null,
            "grid_row": null,
            "grid_template_areas": null,
            "grid_template_columns": null,
            "grid_template_rows": null,
            "height": null,
            "justify_content": null,
            "justify_items": null,
            "left": null,
            "margin": null,
            "max_height": null,
            "max_width": null,
            "min_height": null,
            "min_width": null,
            "object_fit": null,
            "object_position": null,
            "order": null,
            "overflow": null,
            "overflow_x": null,
            "overflow_y": null,
            "padding": null,
            "right": null,
            "top": null,
            "visibility": null,
            "width": null
          }
        },
        "e31fe4c21f404fe8bfa53d8016f4fdec": {
          "model_module": "@jupyter-widgets/controls",
          "model_name": "DescriptionStyleModel",
          "model_module_version": "1.5.0",
          "state": {
            "_model_module": "@jupyter-widgets/controls",
            "_model_module_version": "1.5.0",
            "_model_name": "DescriptionStyleModel",
            "_view_count": null,
            "_view_module": "@jupyter-widgets/base",
            "_view_module_version": "1.2.0",
            "_view_name": "StyleView",
            "description_width": ""
          }
        },
        "31291829af254e19ba2b27da9ff40f9a": {
          "model_module": "@jupyter-widgets/base",
          "model_name": "LayoutModel",
          "model_module_version": "1.2.0",
          "state": {
            "_model_module": "@jupyter-widgets/base",
            "_model_module_version": "1.2.0",
            "_model_name": "LayoutModel",
            "_view_count": null,
            "_view_module": "@jupyter-widgets/base",
            "_view_module_version": "1.2.0",
            "_view_name": "LayoutView",
            "align_content": null,
            "align_items": null,
            "align_self": null,
            "border": null,
            "bottom": null,
            "display": null,
            "flex": null,
            "flex_flow": null,
            "grid_area": null,
            "grid_auto_columns": null,
            "grid_auto_flow": null,
            "grid_auto_rows": null,
            "grid_column": null,
            "grid_gap": null,
            "grid_row": null,
            "grid_template_areas": null,
            "grid_template_columns": null,
            "grid_template_rows": null,
            "height": null,
            "justify_content": null,
            "justify_items": null,
            "left": null,
            "margin": null,
            "max_height": null,
            "max_width": null,
            "min_height": null,
            "min_width": null,
            "object_fit": null,
            "object_position": null,
            "order": null,
            "overflow": null,
            "overflow_x": null,
            "overflow_y": null,
            "padding": null,
            "right": null,
            "top": null,
            "visibility": null,
            "width": null
          }
        },
        "31bc4948fef74a3b9dee8bcd67591b54": {
          "model_module": "@jupyter-widgets/controls",
          "model_name": "ProgressStyleModel",
          "model_module_version": "1.5.0",
          "state": {
            "_model_module": "@jupyter-widgets/controls",
            "_model_module_version": "1.5.0",
            "_model_name": "ProgressStyleModel",
            "_view_count": null,
            "_view_module": "@jupyter-widgets/base",
            "_view_module_version": "1.2.0",
            "_view_name": "StyleView",
            "bar_color": null,
            "description_width": ""
          }
        },
        "b11cb63e644c41f388a75dac5dc0bcdc": {
          "model_module": "@jupyter-widgets/base",
          "model_name": "LayoutModel",
          "model_module_version": "1.2.0",
          "state": {
            "_model_module": "@jupyter-widgets/base",
            "_model_module_version": "1.2.0",
            "_model_name": "LayoutModel",
            "_view_count": null,
            "_view_module": "@jupyter-widgets/base",
            "_view_module_version": "1.2.0",
            "_view_name": "LayoutView",
            "align_content": null,
            "align_items": null,
            "align_self": null,
            "border": null,
            "bottom": null,
            "display": null,
            "flex": null,
            "flex_flow": null,
            "grid_area": null,
            "grid_auto_columns": null,
            "grid_auto_flow": null,
            "grid_auto_rows": null,
            "grid_column": null,
            "grid_gap": null,
            "grid_row": null,
            "grid_template_areas": null,
            "grid_template_columns": null,
            "grid_template_rows": null,
            "height": null,
            "justify_content": null,
            "justify_items": null,
            "left": null,
            "margin": null,
            "max_height": null,
            "max_width": null,
            "min_height": null,
            "min_width": null,
            "object_fit": null,
            "object_position": null,
            "order": null,
            "overflow": null,
            "overflow_x": null,
            "overflow_y": null,
            "padding": null,
            "right": null,
            "top": null,
            "visibility": null,
            "width": null
          }
        },
        "3684599371c0405587b58ec93d075703": {
          "model_module": "@jupyter-widgets/controls",
          "model_name": "DescriptionStyleModel",
          "model_module_version": "1.5.0",
          "state": {
            "_model_module": "@jupyter-widgets/controls",
            "_model_module_version": "1.5.0",
            "_model_name": "DescriptionStyleModel",
            "_view_count": null,
            "_view_module": "@jupyter-widgets/base",
            "_view_module_version": "1.2.0",
            "_view_name": "StyleView",
            "description_width": ""
          }
        },
        "e26076e1735e4acb91f35d19cff2c25f": {
          "model_module": "@jupyter-widgets/controls",
          "model_name": "HBoxModel",
          "model_module_version": "1.5.0",
          "state": {
            "_dom_classes": [],
            "_model_module": "@jupyter-widgets/controls",
            "_model_module_version": "1.5.0",
            "_model_name": "HBoxModel",
            "_view_count": null,
            "_view_module": "@jupyter-widgets/controls",
            "_view_module_version": "1.5.0",
            "_view_name": "HBoxView",
            "box_style": "",
            "children": [
              "IPY_MODEL_edf209a5b4c64103818724177bcf6b5f",
              "IPY_MODEL_f2f7d173ab6545dba46a1881fe039d14",
              "IPY_MODEL_c11de9f6808e44278aad8d1bec24d0ca"
            ],
            "layout": "IPY_MODEL_c2fc2f10631a4d06b4d7ac0312029e66"
          }
        },
        "edf209a5b4c64103818724177bcf6b5f": {
          "model_module": "@jupyter-widgets/controls",
          "model_name": "HTMLModel",
          "model_module_version": "1.5.0",
          "state": {
            "_dom_classes": [],
            "_model_module": "@jupyter-widgets/controls",
            "_model_module_version": "1.5.0",
            "_model_name": "HTMLModel",
            "_view_count": null,
            "_view_module": "@jupyter-widgets/controls",
            "_view_module_version": "1.5.0",
            "_view_name": "HTMLView",
            "description": "",
            "description_tooltip": null,
            "layout": "IPY_MODEL_deb30e704f434177847778b0ccadee6a",
            "placeholder": "​",
            "style": "IPY_MODEL_cc87561568eb450098c0bc26caecad6c",
            "value": "100%"
          }
        },
        "f2f7d173ab6545dba46a1881fe039d14": {
          "model_module": "@jupyter-widgets/controls",
          "model_name": "FloatProgressModel",
          "model_module_version": "1.5.0",
          "state": {
            "_dom_classes": [],
            "_model_module": "@jupyter-widgets/controls",
            "_model_module_version": "1.5.0",
            "_model_name": "FloatProgressModel",
            "_view_count": null,
            "_view_module": "@jupyter-widgets/controls",
            "_view_module_version": "1.5.0",
            "_view_name": "ProgressView",
            "bar_style": "success",
            "description": "",
            "description_tooltip": null,
            "layout": "IPY_MODEL_1e83d92567a24c1aaba57d907d5dfba4",
            "max": 313,
            "min": 0,
            "orientation": "horizontal",
            "style": "IPY_MODEL_24ad8906e39a45ed94d9b47c1afaef7a",
            "value": 313
          }
        },
        "c11de9f6808e44278aad8d1bec24d0ca": {
          "model_module": "@jupyter-widgets/controls",
          "model_name": "HTMLModel",
          "model_module_version": "1.5.0",
          "state": {
            "_dom_classes": [],
            "_model_module": "@jupyter-widgets/controls",
            "_model_module_version": "1.5.0",
            "_model_name": "HTMLModel",
            "_view_count": null,
            "_view_module": "@jupyter-widgets/controls",
            "_view_module_version": "1.5.0",
            "_view_name": "HTMLView",
            "description": "",
            "description_tooltip": null,
            "layout": "IPY_MODEL_73d642d7b82248d6822330a961a35980",
            "placeholder": "​",
            "style": "IPY_MODEL_a6eea4bd097342b2ae68370853cab31c",
            "value": " 313/313 [00:01&lt;00:00, 255.94it/s]"
          }
        },
        "c2fc2f10631a4d06b4d7ac0312029e66": {
          "model_module": "@jupyter-widgets/base",
          "model_name": "LayoutModel",
          "model_module_version": "1.2.0",
          "state": {
            "_model_module": "@jupyter-widgets/base",
            "_model_module_version": "1.2.0",
            "_model_name": "LayoutModel",
            "_view_count": null,
            "_view_module": "@jupyter-widgets/base",
            "_view_module_version": "1.2.0",
            "_view_name": "LayoutView",
            "align_content": null,
            "align_items": null,
            "align_self": null,
            "border": null,
            "bottom": null,
            "display": null,
            "flex": null,
            "flex_flow": null,
            "grid_area": null,
            "grid_auto_columns": null,
            "grid_auto_flow": null,
            "grid_auto_rows": null,
            "grid_column": null,
            "grid_gap": null,
            "grid_row": null,
            "grid_template_areas": null,
            "grid_template_columns": null,
            "grid_template_rows": null,
            "height": null,
            "justify_content": null,
            "justify_items": null,
            "left": null,
            "margin": null,
            "max_height": null,
            "max_width": null,
            "min_height": null,
            "min_width": null,
            "object_fit": null,
            "object_position": null,
            "order": null,
            "overflow": null,
            "overflow_x": null,
            "overflow_y": null,
            "padding": null,
            "right": null,
            "top": null,
            "visibility": null,
            "width": null
          }
        },
        "deb30e704f434177847778b0ccadee6a": {
          "model_module": "@jupyter-widgets/base",
          "model_name": "LayoutModel",
          "model_module_version": "1.2.0",
          "state": {
            "_model_module": "@jupyter-widgets/base",
            "_model_module_version": "1.2.0",
            "_model_name": "LayoutModel",
            "_view_count": null,
            "_view_module": "@jupyter-widgets/base",
            "_view_module_version": "1.2.0",
            "_view_name": "LayoutView",
            "align_content": null,
            "align_items": null,
            "align_self": null,
            "border": null,
            "bottom": null,
            "display": null,
            "flex": null,
            "flex_flow": null,
            "grid_area": null,
            "grid_auto_columns": null,
            "grid_auto_flow": null,
            "grid_auto_rows": null,
            "grid_column": null,
            "grid_gap": null,
            "grid_row": null,
            "grid_template_areas": null,
            "grid_template_columns": null,
            "grid_template_rows": null,
            "height": null,
            "justify_content": null,
            "justify_items": null,
            "left": null,
            "margin": null,
            "max_height": null,
            "max_width": null,
            "min_height": null,
            "min_width": null,
            "object_fit": null,
            "object_position": null,
            "order": null,
            "overflow": null,
            "overflow_x": null,
            "overflow_y": null,
            "padding": null,
            "right": null,
            "top": null,
            "visibility": null,
            "width": null
          }
        },
        "cc87561568eb450098c0bc26caecad6c": {
          "model_module": "@jupyter-widgets/controls",
          "model_name": "DescriptionStyleModel",
          "model_module_version": "1.5.0",
          "state": {
            "_model_module": "@jupyter-widgets/controls",
            "_model_module_version": "1.5.0",
            "_model_name": "DescriptionStyleModel",
            "_view_count": null,
            "_view_module": "@jupyter-widgets/base",
            "_view_module_version": "1.2.0",
            "_view_name": "StyleView",
            "description_width": ""
          }
        },
        "1e83d92567a24c1aaba57d907d5dfba4": {
          "model_module": "@jupyter-widgets/base",
          "model_name": "LayoutModel",
          "model_module_version": "1.2.0",
          "state": {
            "_model_module": "@jupyter-widgets/base",
            "_model_module_version": "1.2.0",
            "_model_name": "LayoutModel",
            "_view_count": null,
            "_view_module": "@jupyter-widgets/base",
            "_view_module_version": "1.2.0",
            "_view_name": "LayoutView",
            "align_content": null,
            "align_items": null,
            "align_self": null,
            "border": null,
            "bottom": null,
            "display": null,
            "flex": null,
            "flex_flow": null,
            "grid_area": null,
            "grid_auto_columns": null,
            "grid_auto_flow": null,
            "grid_auto_rows": null,
            "grid_column": null,
            "grid_gap": null,
            "grid_row": null,
            "grid_template_areas": null,
            "grid_template_columns": null,
            "grid_template_rows": null,
            "height": null,
            "justify_content": null,
            "justify_items": null,
            "left": null,
            "margin": null,
            "max_height": null,
            "max_width": null,
            "min_height": null,
            "min_width": null,
            "object_fit": null,
            "object_position": null,
            "order": null,
            "overflow": null,
            "overflow_x": null,
            "overflow_y": null,
            "padding": null,
            "right": null,
            "top": null,
            "visibility": null,
            "width": null
          }
        },
        "24ad8906e39a45ed94d9b47c1afaef7a": {
          "model_module": "@jupyter-widgets/controls",
          "model_name": "ProgressStyleModel",
          "model_module_version": "1.5.0",
          "state": {
            "_model_module": "@jupyter-widgets/controls",
            "_model_module_version": "1.5.0",
            "_model_name": "ProgressStyleModel",
            "_view_count": null,
            "_view_module": "@jupyter-widgets/base",
            "_view_module_version": "1.2.0",
            "_view_name": "StyleView",
            "bar_color": null,
            "description_width": ""
          }
        },
        "73d642d7b82248d6822330a961a35980": {
          "model_module": "@jupyter-widgets/base",
          "model_name": "LayoutModel",
          "model_module_version": "1.2.0",
          "state": {
            "_model_module": "@jupyter-widgets/base",
            "_model_module_version": "1.2.0",
            "_model_name": "LayoutModel",
            "_view_count": null,
            "_view_module": "@jupyter-widgets/base",
            "_view_module_version": "1.2.0",
            "_view_name": "LayoutView",
            "align_content": null,
            "align_items": null,
            "align_self": null,
            "border": null,
            "bottom": null,
            "display": null,
            "flex": null,
            "flex_flow": null,
            "grid_area": null,
            "grid_auto_columns": null,
            "grid_auto_flow": null,
            "grid_auto_rows": null,
            "grid_column": null,
            "grid_gap": null,
            "grid_row": null,
            "grid_template_areas": null,
            "grid_template_columns": null,
            "grid_template_rows": null,
            "height": null,
            "justify_content": null,
            "justify_items": null,
            "left": null,
            "margin": null,
            "max_height": null,
            "max_width": null,
            "min_height": null,
            "min_width": null,
            "object_fit": null,
            "object_position": null,
            "order": null,
            "overflow": null,
            "overflow_x": null,
            "overflow_y": null,
            "padding": null,
            "right": null,
            "top": null,
            "visibility": null,
            "width": null
          }
        },
        "a6eea4bd097342b2ae68370853cab31c": {
          "model_module": "@jupyter-widgets/controls",
          "model_name": "DescriptionStyleModel",
          "model_module_version": "1.5.0",
          "state": {
            "_model_module": "@jupyter-widgets/controls",
            "_model_module_version": "1.5.0",
            "_model_name": "DescriptionStyleModel",
            "_view_count": null,
            "_view_module": "@jupyter-widgets/base",
            "_view_module_version": "1.2.0",
            "_view_name": "StyleView",
            "description_width": ""
          }
        }
      }
    }
  },
  "cells": [
    {
      "cell_type": "markdown",
      "source": [
        "\n",
        "## Arewa Data Science Academy\n",
        "### Deep Learning Cohort1.0\n",
        "#### Name: Abdulrahman Yusuf\n",
        "#### Email: audura2013@gmail.com\n",
        "#### Title: Week 4 Solution Exe. 003"
      ],
      "metadata": {
        "id": "Tb5Th6BLrjru"
      }
    },
    {
      "cell_type": "markdown",
      "source": [
        "## 1. What are 3 areas in industry where computer vision is currently being used?\n",
        "1. In medicine, doctors use computer vision to detect disease or fractures in the human body.\n",
        "2. In war, drones use computer vision to spy on enemies or launch an attack at a location where necessary.\n",
        "3. In games such as football, referees use computer vision to review possible faults for final decision-making.\n"
      ],
      "metadata": {
        "id": "mVB4w0gSPB1u"
      }
    },
    {
      "cell_type": "markdown",
      "source": [
        "## 2. Search \"what is overfitting in machine learning\" and write down a sentence about what you find.\n",
        "\n",
        "When a model is unable to generalize and fits too closely to the training dataset, it is said to be overfitting. Some reasons why overfitting occurs include:\n",
        "* Insufficient data samples for training that could adequately reflect the full range of possible input data values.\n",
        "* The model trains for a longer period of time on a single sample set of data; and\n",
        "* The training data contains a huge amount of useless information, which is called noisy data.\n",
        "\n",
        "\n"
      ],
      "metadata": {
        "id": "tNb9G4k4P5X_"
      }
    },
    {
      "cell_type": "markdown",
      "source": [
        "## 3. Search \"ways to prevent overfitting in machine learning\", write down 3 of the things you find and a sentence about each.\n",
        "\n",
        "1. Pruning: identify the features or parameters used that impact the final prediction while building a model and reduce those considered less relevant. For example, in an image prediction such as that of a human, one may consider a variety of input parameters, such as body structure, ear position, and facial form. You can give the form of your face more importance than your eyes' shape.\n",
        "2. Regularization: is a set of optimization and training methods designed to lessen overfitting. By assigning a feature's relevance, these techniques attempt to weed out the elements that have no bearing on the prediction results.\n",
        "3. Ensembling: Predictions from multiple distinct machine learning algorithms are combined in ensembling. Because they frequently produce erroneous findings, certain models are referred to as poor learners. Ensemble approaches integrate all of the underachievers to produce more precise outcomes.\n",
        "\n"
      ],
      "metadata": {
        "id": "2qKxba4pRGD2"
      }
    },
    {
      "cell_type": "markdown",
      "source": [
        "## 4. Spend 20-minutes reading and clicking through the CNN Explainer website.\n",
        "Read and uploaded. well organised leasons with alot of technicalities that requires further explaination from experts."
      ],
      "metadata": {
        "id": "4IBhv8cFRkEE"
      }
    },
    {
      "cell_type": "markdown",
      "source": [
        "## 5. Load the torchvision.datasets.MNIST() train and test datasets."
      ],
      "metadata": {
        "id": "zfW981lBYsGC"
      }
    },
    {
      "cell_type": "code",
      "execution_count": 2,
      "metadata": {
        "id": "ZTd_wpgOJ8t-"
      },
      "outputs": [],
      "source": [
        "# Let make some basic importation PyTorch\n",
        "import torch\n",
        "from torch import nn\n",
        "\n",
        "# Import torchvision\n",
        "import torchvision\n",
        "from torchvision import datasets\n",
        "from torchvision.transforms import ToTensor\n",
        "\n",
        "# Import matplotlib for visualization\n",
        "import matplotlib.pyplot as plt"
      ]
    },
    {
      "cell_type": "code",
      "source": [
        "# Setup device agnostic code\n",
        "device = \"cuda\" if torch.cuda.is_available() else \"cpu\"\n",
        "device"
      ],
      "metadata": {
        "colab": {
          "base_uri": "https://localhost:8080/",
          "height": 35
        },
        "id": "WbwXTnLodeLC",
        "outputId": "501a0507-3ac3-40c1-9255-081404f776fc"
      },
      "execution_count": 3,
      "outputs": [
        {
          "output_type": "execute_result",
          "data": {
            "text/plain": [
              "'cuda'"
            ],
            "application/vnd.google.colaboratory.intrinsic+json": {
              "type": "string"
            }
          },
          "metadata": {},
          "execution_count": 3
        }
      ]
    },
    {
      "cell_type": "code",
      "source": [
        "# Setup training data\n",
        "train_data = datasets.MNIST(\n",
        "    root=\"data\",\n",
        "    train=True,\n",
        "    download=True,\n",
        "    transform=ToTensor(),\n",
        "    target_transform=None\n",
        ")\n",
        "\n",
        "# Setup testing data\n",
        "test_data = datasets.MNIST(\n",
        "    root=\"data\",\n",
        "    train=False, # get test data\n",
        "    download=True,\n",
        "    transform=ToTensor()\n",
        ")\n",
        "\n",
        "train_data, test_data"
      ],
      "metadata": {
        "colab": {
          "base_uri": "https://localhost:8080/"
        },
        "id": "qY3mUE3BYL9m",
        "outputId": "100b03da-57fa-44e0-dea7-b7f5e7472ea8"
      },
      "execution_count": 4,
      "outputs": [
        {
          "output_type": "stream",
          "name": "stdout",
          "text": [
            "Downloading http://yann.lecun.com/exdb/mnist/train-images-idx3-ubyte.gz\n",
            "Downloading http://yann.lecun.com/exdb/mnist/train-images-idx3-ubyte.gz to data/MNIST/raw/train-images-idx3-ubyte.gz\n"
          ]
        },
        {
          "output_type": "stream",
          "name": "stderr",
          "text": [
            "100%|██████████| 9912422/9912422 [00:00<00:00, 251815287.60it/s]"
          ]
        },
        {
          "output_type": "stream",
          "name": "stdout",
          "text": [
            "Extracting data/MNIST/raw/train-images-idx3-ubyte.gz to data/MNIST/raw\n"
          ]
        },
        {
          "output_type": "stream",
          "name": "stderr",
          "text": [
            "\n"
          ]
        },
        {
          "output_type": "stream",
          "name": "stdout",
          "text": [
            "\n",
            "Downloading http://yann.lecun.com/exdb/mnist/train-labels-idx1-ubyte.gz\n",
            "Downloading http://yann.lecun.com/exdb/mnist/train-labels-idx1-ubyte.gz to data/MNIST/raw/train-labels-idx1-ubyte.gz\n"
          ]
        },
        {
          "output_type": "stream",
          "name": "stderr",
          "text": [
            "100%|██████████| 28881/28881 [00:00<00:00, 39873500.27it/s]\n"
          ]
        },
        {
          "output_type": "stream",
          "name": "stdout",
          "text": [
            "Extracting data/MNIST/raw/train-labels-idx1-ubyte.gz to data/MNIST/raw\n",
            "\n",
            "Downloading http://yann.lecun.com/exdb/mnist/t10k-images-idx3-ubyte.gz\n",
            "Downloading http://yann.lecun.com/exdb/mnist/t10k-images-idx3-ubyte.gz to data/MNIST/raw/t10k-images-idx3-ubyte.gz\n"
          ]
        },
        {
          "output_type": "stream",
          "name": "stderr",
          "text": [
            "100%|██████████| 1648877/1648877 [00:00<00:00, 81807111.47it/s]"
          ]
        },
        {
          "output_type": "stream",
          "name": "stdout",
          "text": [
            "Extracting data/MNIST/raw/t10k-images-idx3-ubyte.gz to data/MNIST/raw\n"
          ]
        },
        {
          "output_type": "stream",
          "name": "stderr",
          "text": [
            "\n"
          ]
        },
        {
          "output_type": "stream",
          "name": "stdout",
          "text": [
            "\n",
            "Downloading http://yann.lecun.com/exdb/mnist/t10k-labels-idx1-ubyte.gz\n",
            "Downloading http://yann.lecun.com/exdb/mnist/t10k-labels-idx1-ubyte.gz to data/MNIST/raw/t10k-labels-idx1-ubyte.gz\n"
          ]
        },
        {
          "output_type": "stream",
          "name": "stderr",
          "text": [
            "100%|██████████| 4542/4542 [00:00<00:00, 5792194.82it/s]\n"
          ]
        },
        {
          "output_type": "stream",
          "name": "stdout",
          "text": [
            "Extracting data/MNIST/raw/t10k-labels-idx1-ubyte.gz to data/MNIST/raw\n",
            "\n"
          ]
        },
        {
          "output_type": "execute_result",
          "data": {
            "text/plain": [
              "(Dataset MNIST\n",
              "     Number of datapoints: 60000\n",
              "     Root location: data\n",
              "     Split: Train\n",
              "     StandardTransform\n",
              " Transform: ToTensor(),\n",
              " Dataset MNIST\n",
              "     Number of datapoints: 10000\n",
              "     Root location: data\n",
              "     Split: Test\n",
              "     StandardTransform\n",
              " Transform: ToTensor())"
            ]
          },
          "metadata": {},
          "execution_count": 4
        }
      ]
    },
    {
      "cell_type": "code",
      "source": [
        "len(train_data), len(test_data)"
      ],
      "metadata": {
        "colab": {
          "base_uri": "https://localhost:8080/"
        },
        "id": "IQj0AUmzb-em",
        "outputId": "82f689ab-5731-466e-c28d-8dfa5290f3db"
      },
      "execution_count": 5,
      "outputs": [
        {
          "output_type": "execute_result",
          "data": {
            "text/plain": [
              "(60000, 10000)"
            ]
          },
          "metadata": {},
          "execution_count": 5
        }
      ]
    },
    {
      "cell_type": "code",
      "source": [
        "# Get data sample of image and label in tuple\n",
        "image = train_data[0][0]\n",
        "label = train_data[0][1]\n",
        "print(f\"Image:\\n {image}\")\n",
        "print(f\"Label:\\n {label}\")"
      ],
      "metadata": {
        "colab": {
          "base_uri": "https://localhost:8080/"
        },
        "id": "fRBNwna-cUb1",
        "outputId": "f7060a9f-1a9c-4d11-aa0f-adf88742e2a9"
      },
      "execution_count": 6,
      "outputs": [
        {
          "output_type": "stream",
          "name": "stdout",
          "text": [
            "Image:\n",
            " tensor([[[0.0000, 0.0000, 0.0000, 0.0000, 0.0000, 0.0000, 0.0000, 0.0000,\n",
            "          0.0000, 0.0000, 0.0000, 0.0000, 0.0000, 0.0000, 0.0000, 0.0000,\n",
            "          0.0000, 0.0000, 0.0000, 0.0000, 0.0000, 0.0000, 0.0000, 0.0000,\n",
            "          0.0000, 0.0000, 0.0000, 0.0000],\n",
            "         [0.0000, 0.0000, 0.0000, 0.0000, 0.0000, 0.0000, 0.0000, 0.0000,\n",
            "          0.0000, 0.0000, 0.0000, 0.0000, 0.0000, 0.0000, 0.0000, 0.0000,\n",
            "          0.0000, 0.0000, 0.0000, 0.0000, 0.0000, 0.0000, 0.0000, 0.0000,\n",
            "          0.0000, 0.0000, 0.0000, 0.0000],\n",
            "         [0.0000, 0.0000, 0.0000, 0.0000, 0.0000, 0.0000, 0.0000, 0.0000,\n",
            "          0.0000, 0.0000, 0.0000, 0.0000, 0.0000, 0.0000, 0.0000, 0.0000,\n",
            "          0.0000, 0.0000, 0.0000, 0.0000, 0.0000, 0.0000, 0.0000, 0.0000,\n",
            "          0.0000, 0.0000, 0.0000, 0.0000],\n",
            "         [0.0000, 0.0000, 0.0000, 0.0000, 0.0000, 0.0000, 0.0000, 0.0000,\n",
            "          0.0000, 0.0000, 0.0000, 0.0000, 0.0000, 0.0000, 0.0000, 0.0000,\n",
            "          0.0000, 0.0000, 0.0000, 0.0000, 0.0000, 0.0000, 0.0000, 0.0000,\n",
            "          0.0000, 0.0000, 0.0000, 0.0000],\n",
            "         [0.0000, 0.0000, 0.0000, 0.0000, 0.0000, 0.0000, 0.0000, 0.0000,\n",
            "          0.0000, 0.0000, 0.0000, 0.0000, 0.0000, 0.0000, 0.0000, 0.0000,\n",
            "          0.0000, 0.0000, 0.0000, 0.0000, 0.0000, 0.0000, 0.0000, 0.0000,\n",
            "          0.0000, 0.0000, 0.0000, 0.0000],\n",
            "         [0.0000, 0.0000, 0.0000, 0.0000, 0.0000, 0.0000, 0.0000, 0.0000,\n",
            "          0.0000, 0.0000, 0.0000, 0.0000, 0.0118, 0.0706, 0.0706, 0.0706,\n",
            "          0.4941, 0.5333, 0.6863, 0.1020, 0.6510, 1.0000, 0.9686, 0.4980,\n",
            "          0.0000, 0.0000, 0.0000, 0.0000],\n",
            "         [0.0000, 0.0000, 0.0000, 0.0000, 0.0000, 0.0000, 0.0000, 0.0000,\n",
            "          0.1176, 0.1412, 0.3686, 0.6039, 0.6667, 0.9922, 0.9922, 0.9922,\n",
            "          0.9922, 0.9922, 0.8824, 0.6745, 0.9922, 0.9490, 0.7647, 0.2510,\n",
            "          0.0000, 0.0000, 0.0000, 0.0000],\n",
            "         [0.0000, 0.0000, 0.0000, 0.0000, 0.0000, 0.0000, 0.0000, 0.1922,\n",
            "          0.9333, 0.9922, 0.9922, 0.9922, 0.9922, 0.9922, 0.9922, 0.9922,\n",
            "          0.9922, 0.9843, 0.3647, 0.3216, 0.3216, 0.2196, 0.1529, 0.0000,\n",
            "          0.0000, 0.0000, 0.0000, 0.0000],\n",
            "         [0.0000, 0.0000, 0.0000, 0.0000, 0.0000, 0.0000, 0.0000, 0.0706,\n",
            "          0.8588, 0.9922, 0.9922, 0.9922, 0.9922, 0.9922, 0.7765, 0.7137,\n",
            "          0.9686, 0.9451, 0.0000, 0.0000, 0.0000, 0.0000, 0.0000, 0.0000,\n",
            "          0.0000, 0.0000, 0.0000, 0.0000],\n",
            "         [0.0000, 0.0000, 0.0000, 0.0000, 0.0000, 0.0000, 0.0000, 0.0000,\n",
            "          0.3137, 0.6118, 0.4196, 0.9922, 0.9922, 0.8039, 0.0431, 0.0000,\n",
            "          0.1686, 0.6039, 0.0000, 0.0000, 0.0000, 0.0000, 0.0000, 0.0000,\n",
            "          0.0000, 0.0000, 0.0000, 0.0000],\n",
            "         [0.0000, 0.0000, 0.0000, 0.0000, 0.0000, 0.0000, 0.0000, 0.0000,\n",
            "          0.0000, 0.0549, 0.0039, 0.6039, 0.9922, 0.3529, 0.0000, 0.0000,\n",
            "          0.0000, 0.0000, 0.0000, 0.0000, 0.0000, 0.0000, 0.0000, 0.0000,\n",
            "          0.0000, 0.0000, 0.0000, 0.0000],\n",
            "         [0.0000, 0.0000, 0.0000, 0.0000, 0.0000, 0.0000, 0.0000, 0.0000,\n",
            "          0.0000, 0.0000, 0.0000, 0.5451, 0.9922, 0.7451, 0.0078, 0.0000,\n",
            "          0.0000, 0.0000, 0.0000, 0.0000, 0.0000, 0.0000, 0.0000, 0.0000,\n",
            "          0.0000, 0.0000, 0.0000, 0.0000],\n",
            "         [0.0000, 0.0000, 0.0000, 0.0000, 0.0000, 0.0000, 0.0000, 0.0000,\n",
            "          0.0000, 0.0000, 0.0000, 0.0431, 0.7451, 0.9922, 0.2745, 0.0000,\n",
            "          0.0000, 0.0000, 0.0000, 0.0000, 0.0000, 0.0000, 0.0000, 0.0000,\n",
            "          0.0000, 0.0000, 0.0000, 0.0000],\n",
            "         [0.0000, 0.0000, 0.0000, 0.0000, 0.0000, 0.0000, 0.0000, 0.0000,\n",
            "          0.0000, 0.0000, 0.0000, 0.0000, 0.1373, 0.9451, 0.8824, 0.6275,\n",
            "          0.4235, 0.0039, 0.0000, 0.0000, 0.0000, 0.0000, 0.0000, 0.0000,\n",
            "          0.0000, 0.0000, 0.0000, 0.0000],\n",
            "         [0.0000, 0.0000, 0.0000, 0.0000, 0.0000, 0.0000, 0.0000, 0.0000,\n",
            "          0.0000, 0.0000, 0.0000, 0.0000, 0.0000, 0.3176, 0.9412, 0.9922,\n",
            "          0.9922, 0.4667, 0.0980, 0.0000, 0.0000, 0.0000, 0.0000, 0.0000,\n",
            "          0.0000, 0.0000, 0.0000, 0.0000],\n",
            "         [0.0000, 0.0000, 0.0000, 0.0000, 0.0000, 0.0000, 0.0000, 0.0000,\n",
            "          0.0000, 0.0000, 0.0000, 0.0000, 0.0000, 0.0000, 0.1765, 0.7294,\n",
            "          0.9922, 0.9922, 0.5882, 0.1059, 0.0000, 0.0000, 0.0000, 0.0000,\n",
            "          0.0000, 0.0000, 0.0000, 0.0000],\n",
            "         [0.0000, 0.0000, 0.0000, 0.0000, 0.0000, 0.0000, 0.0000, 0.0000,\n",
            "          0.0000, 0.0000, 0.0000, 0.0000, 0.0000, 0.0000, 0.0000, 0.0627,\n",
            "          0.3647, 0.9882, 0.9922, 0.7333, 0.0000, 0.0000, 0.0000, 0.0000,\n",
            "          0.0000, 0.0000, 0.0000, 0.0000],\n",
            "         [0.0000, 0.0000, 0.0000, 0.0000, 0.0000, 0.0000, 0.0000, 0.0000,\n",
            "          0.0000, 0.0000, 0.0000, 0.0000, 0.0000, 0.0000, 0.0000, 0.0000,\n",
            "          0.0000, 0.9765, 0.9922, 0.9765, 0.2510, 0.0000, 0.0000, 0.0000,\n",
            "          0.0000, 0.0000, 0.0000, 0.0000],\n",
            "         [0.0000, 0.0000, 0.0000, 0.0000, 0.0000, 0.0000, 0.0000, 0.0000,\n",
            "          0.0000, 0.0000, 0.0000, 0.0000, 0.0000, 0.0000, 0.1804, 0.5098,\n",
            "          0.7176, 0.9922, 0.9922, 0.8118, 0.0078, 0.0000, 0.0000, 0.0000,\n",
            "          0.0000, 0.0000, 0.0000, 0.0000],\n",
            "         [0.0000, 0.0000, 0.0000, 0.0000, 0.0000, 0.0000, 0.0000, 0.0000,\n",
            "          0.0000, 0.0000, 0.0000, 0.0000, 0.1529, 0.5804, 0.8980, 0.9922,\n",
            "          0.9922, 0.9922, 0.9804, 0.7137, 0.0000, 0.0000, 0.0000, 0.0000,\n",
            "          0.0000, 0.0000, 0.0000, 0.0000],\n",
            "         [0.0000, 0.0000, 0.0000, 0.0000, 0.0000, 0.0000, 0.0000, 0.0000,\n",
            "          0.0000, 0.0000, 0.0941, 0.4471, 0.8667, 0.9922, 0.9922, 0.9922,\n",
            "          0.9922, 0.7882, 0.3059, 0.0000, 0.0000, 0.0000, 0.0000, 0.0000,\n",
            "          0.0000, 0.0000, 0.0000, 0.0000],\n",
            "         [0.0000, 0.0000, 0.0000, 0.0000, 0.0000, 0.0000, 0.0000, 0.0000,\n",
            "          0.0902, 0.2588, 0.8353, 0.9922, 0.9922, 0.9922, 0.9922, 0.7765,\n",
            "          0.3176, 0.0078, 0.0000, 0.0000, 0.0000, 0.0000, 0.0000, 0.0000,\n",
            "          0.0000, 0.0000, 0.0000, 0.0000],\n",
            "         [0.0000, 0.0000, 0.0000, 0.0000, 0.0000, 0.0000, 0.0706, 0.6706,\n",
            "          0.8588, 0.9922, 0.9922, 0.9922, 0.9922, 0.7647, 0.3137, 0.0353,\n",
            "          0.0000, 0.0000, 0.0000, 0.0000, 0.0000, 0.0000, 0.0000, 0.0000,\n",
            "          0.0000, 0.0000, 0.0000, 0.0000],\n",
            "         [0.0000, 0.0000, 0.0000, 0.0000, 0.2157, 0.6745, 0.8863, 0.9922,\n",
            "          0.9922, 0.9922, 0.9922, 0.9569, 0.5216, 0.0431, 0.0000, 0.0000,\n",
            "          0.0000, 0.0000, 0.0000, 0.0000, 0.0000, 0.0000, 0.0000, 0.0000,\n",
            "          0.0000, 0.0000, 0.0000, 0.0000],\n",
            "         [0.0000, 0.0000, 0.0000, 0.0000, 0.5333, 0.9922, 0.9922, 0.9922,\n",
            "          0.8314, 0.5294, 0.5176, 0.0627, 0.0000, 0.0000, 0.0000, 0.0000,\n",
            "          0.0000, 0.0000, 0.0000, 0.0000, 0.0000, 0.0000, 0.0000, 0.0000,\n",
            "          0.0000, 0.0000, 0.0000, 0.0000],\n",
            "         [0.0000, 0.0000, 0.0000, 0.0000, 0.0000, 0.0000, 0.0000, 0.0000,\n",
            "          0.0000, 0.0000, 0.0000, 0.0000, 0.0000, 0.0000, 0.0000, 0.0000,\n",
            "          0.0000, 0.0000, 0.0000, 0.0000, 0.0000, 0.0000, 0.0000, 0.0000,\n",
            "          0.0000, 0.0000, 0.0000, 0.0000],\n",
            "         [0.0000, 0.0000, 0.0000, 0.0000, 0.0000, 0.0000, 0.0000, 0.0000,\n",
            "          0.0000, 0.0000, 0.0000, 0.0000, 0.0000, 0.0000, 0.0000, 0.0000,\n",
            "          0.0000, 0.0000, 0.0000, 0.0000, 0.0000, 0.0000, 0.0000, 0.0000,\n",
            "          0.0000, 0.0000, 0.0000, 0.0000],\n",
            "         [0.0000, 0.0000, 0.0000, 0.0000, 0.0000, 0.0000, 0.0000, 0.0000,\n",
            "          0.0000, 0.0000, 0.0000, 0.0000, 0.0000, 0.0000, 0.0000, 0.0000,\n",
            "          0.0000, 0.0000, 0.0000, 0.0000, 0.0000, 0.0000, 0.0000, 0.0000,\n",
            "          0.0000, 0.0000, 0.0000, 0.0000]]])\n",
            "Label:\n",
            " 5\n"
          ]
        }
      ]
    },
    {
      "cell_type": "code",
      "source": [
        "# Check out the shapes of our data\n",
        "print(f\"Image shape: {image.shape} -> [color_channels, height, width (CHW)]\")\n",
        "print(f\"Label: {label} -> no shape, due to being integer\")"
      ],
      "metadata": {
        "colab": {
          "base_uri": "https://localhost:8080/"
        },
        "id": "gSX7603YephO",
        "outputId": "ba3c3c9d-1d9e-4db3-d9ba-1fb2746f94f8"
      },
      "execution_count": 8,
      "outputs": [
        {
          "output_type": "stream",
          "name": "stdout",
          "text": [
            "Image shape: torch.Size([1, 28, 28]) -> [color_channels, height, width (CHW)]\n",
            "Label: 5 -> no shape, due to being integer\n"
          ]
        }
      ]
    },
    {
      "cell_type": "code",
      "source": [
        "# Get the class names from the dataset\n",
        "class_names = train_data.classes\n",
        "class_names"
      ],
      "metadata": {
        "colab": {
          "base_uri": "https://localhost:8080/"
        },
        "id": "Bv3vscva2wKs",
        "outputId": "c019932b-0731-4e55-8e9f-15029307fec2"
      },
      "execution_count": 9,
      "outputs": [
        {
          "output_type": "execute_result",
          "data": {
            "text/plain": [
              "['0 - zero',\n",
              " '1 - one',\n",
              " '2 - two',\n",
              " '3 - three',\n",
              " '4 - four',\n",
              " '5 - five',\n",
              " '6 - six',\n",
              " '7 - seven',\n",
              " '8 - eight',\n",
              " '9 - nine']"
            ]
          },
          "metadata": {},
          "execution_count": 9
        }
      ]
    },
    {
      "cell_type": "code",
      "source": [
        "for i in range(5):\n",
        "  image = train_data[i][0]\n",
        "  print(image.shape)\n",
        "  img_squeeze = image.squeeze()\n",
        "  print(img_squeeze.shape)\n",
        "  label = train_data[i][1]\n",
        "  plt.figure(figsize=(2, 2))\n",
        "  plt.imshow(img_squeeze, cmap=\"gray\")\n",
        "  plt.title(label)\n",
        "  plt.axis(False);"
      ],
      "metadata": {
        "colab": {
          "base_uri": "https://localhost:8080/",
          "height": 1000
        },
        "id": "nWDeCTOfdEol",
        "outputId": "71bcdca7-ad38-4941-96b3-997f90e23f86"
      },
      "execution_count": 10,
      "outputs": [
        {
          "output_type": "stream",
          "name": "stdout",
          "text": [
            "torch.Size([1, 28, 28])\n",
            "torch.Size([28, 28])\n",
            "torch.Size([1, 28, 28])\n",
            "torch.Size([28, 28])\n",
            "torch.Size([1, 28, 28])\n",
            "torch.Size([28, 28])\n",
            "torch.Size([1, 28, 28])\n",
            "torch.Size([28, 28])\n",
            "torch.Size([1, 28, 28])\n",
            "torch.Size([28, 28])\n"
          ]
        },
        {
          "output_type": "display_data",
          "data": {
            "text/plain": [
              "<Figure size 200x200 with 1 Axes>"
            ],
            "image/png": "[encoded data removed]"
          },
          "metadata": {}
        },
        {
          "output_type": "display_data",
          "data": {
            "text/plain": [
              "<Figure size 200x200 with 1 Axes>"
            ],
            "image/png": "[encoded data removed]"
          },
          "metadata": {}
        },
        {
          "output_type": "display_data",
          "data": {
            "text/plain": [
              "<Figure size 200x200 with 1 Axes>"
            ],
            "image/png": "[encoded data removed]"
          },
          "metadata": {}
        },
        {
          "output_type": "display_data",
          "data": {
            "text/plain": [
              "<Figure size 200x200 with 1 Axes>"
            ],
            "image/png": "[encoded data removed]"
          },
          "metadata": {}
        },
        {
          "output_type": "display_data",
          "data": {
            "text/plain": [
              "<Figure size 200x200 with 1 Axes>"
            ],
            "image/png": "[encoded data removed]"
          },
          "metadata": {}
        }
      ]
    },
    {
      "cell_type": "markdown",
      "source": [
        "## 7. Turn the MNIST train and test datasets into dataloaders using torch.utils.data.DataLoader, set the batch_size=32."
      ],
      "metadata": {
        "id": "1zR19N-shTrU"
      }
    },
    {
      "cell_type": "code",
      "source": [
        "# Let create train dataloader with 32 batch size\n",
        "from torch.utils.data import DataLoader\n",
        "\n",
        "train_dataloader = DataLoader(dataset=train_data,\n",
        "                              batch_size=32,\n",
        "                              shuffle=True)\n",
        "\n",
        "test_dataloader = DataLoader(dataset=test_data,\n",
        "                             batch_size=32,\n",
        "                             shuffle=False)\n",
        "\n",
        "train_dataloader, test_dataloader"
      ],
      "metadata": {
        "colab": {
          "base_uri": "https://localhost:8080/"
        },
        "id": "Oy0AdspOg2EB",
        "outputId": "f0dad5f9-443d-4f46-91b9-efc440fef005"
      },
      "execution_count": 11,
      "outputs": [
        {
          "output_type": "execute_result",
          "data": {
            "text/plain": [
              "(<torch.utils.data.dataloader.DataLoader at 0x7967cc8ebf70>,\n",
              " <torch.utils.data.dataloader.DataLoader at 0x7967cc8eb7f0>)"
            ]
          },
          "metadata": {},
          "execution_count": 11
        }
      ]
    },
    {
      "cell_type": "code",
      "source": [
        "for sample in next(iter(train_dataloader)):\n",
        "  print(sample.shape)\n",
        "\n",
        "# Let get the size of the loaders\n",
        "print(\"\\ntrain loader size: \", len(train_dataloader), \" and test loader size:\", len(test_dataloader))"
      ],
      "metadata": {
        "colab": {
          "base_uri": "https://localhost:8080/"
        },
        "id": "snVsjycWhx1B",
        "outputId": "beb279bc-8b9d-450c-ae72-740a478c4352"
      },
      "execution_count": 14,
      "outputs": [
        {
          "output_type": "stream",
          "name": "stdout",
          "text": [
            "torch.Size([32, 1, 28, 28])\n",
            "torch.Size([32])\n",
            "\n",
            "train loader size:  1875  and test loader size: 313\n"
          ]
        }
      ]
    },
    {
      "cell_type": "markdown",
      "source": [
        "## 8. Recreate model_2 used in notebook 03 (the same model from the CNN Explainer website, also known as TinyVGG) capable of fitting on the MNIST dataset."
      ],
      "metadata": {
        "id": "6TTNkMDriaAt"
      }
    },
    {
      "cell_type": "code",
      "source": [
        "class MNIST_model(torch.nn.Module):\n",
        "  \"\"\"A TinyVGG Model capable of predicting on MNIST dataset.\n",
        "  \"\"\"\n",
        "  def __init__(self, input_shape: int, hidden_units: int, output_shape: int):\n",
        "    super().__init__()\n",
        "    self.conv_block_1 = nn.Sequential(\n",
        "      nn.Conv2d(in_channels=input_shape,\n",
        "                out_channels=hidden_units,\n",
        "                kernel_size=3,\n",
        "                stride=1,\n",
        "                padding=1),\n",
        "      nn.ReLU(),\n",
        "      nn.Conv2d(in_channels=hidden_units,\n",
        "                out_channels=hidden_units,\n",
        "                kernel_size=3,\n",
        "                stride=1,\n",
        "                padding=1),\n",
        "      nn.ReLU(),\n",
        "      nn.MaxPool2d(kernel_size=2)\n",
        "    )\n",
        "    self.conv_block_2 = nn.Sequential(\n",
        "      nn.Conv2d(in_channels=hidden_units,\n",
        "                out_channels=hidden_units,\n",
        "                kernel_size=3,\n",
        "                stride=1,\n",
        "                padding=1),\n",
        "      nn.ReLU(),\n",
        "      nn.Conv2d(in_channels=hidden_units,\n",
        "                out_channels=hidden_units,\n",
        "                kernel_size=3,\n",
        "                stride=1,\n",
        "                padding=1),\n",
        "      nn.ReLU(),\n",
        "      nn.MaxPool2d(kernel_size=2)\n",
        "    )\n",
        "    self.classifier = nn.Sequential(\n",
        "      nn.Flatten(),\n",
        "      nn.Linear(in_features=hidden_units*7*7,\n",
        "                out_features=output_shape)\n",
        "    )\n",
        "\n",
        "  def forward(self, x):\n",
        "    x = self.conv_block_1(x)\n",
        "    # print(f\"Output shape of conv block 1: {x.shape}\")\n",
        "    x = self.conv_block_2(x)\n",
        "    # print(f\"Output shape of conv block 2: {x.shape}\")\n",
        "    x = self.classifier(x)\n",
        "    # print(f\"Output shape of classifier: {x.shape}\")\n",
        "    return x"
      ],
      "metadata": {
        "id": "-xkkKx6FihGO"
      },
      "execution_count": 16,
      "outputs": []
    },
    {
      "cell_type": "code",
      "source": [
        "# Model instance creation\n",
        "model_1 = MNIST_model(input_shape=1,\n",
        "                    hidden_units=12,\n",
        "                    output_shape=10).to(device)\n",
        "model_1"
      ],
      "metadata": {
        "colab": {
          "base_uri": "https://localhost:8080/"
        },
        "id": "njy-PgHRjC_f",
        "outputId": "95eed624-6ac7-4d06-b992-1b662441258c"
      },
      "execution_count": 18,
      "outputs": [
        {
          "output_type": "execute_result",
          "data": {
            "text/plain": [
              "MNIST_model(\n",
              "  (conv_block_1): Sequential(\n",
              "    (0): Conv2d(1, 12, kernel_size=(3, 3), stride=(1, 1), padding=(1, 1))\n",
              "    (1): ReLU()\n",
              "    (2): Conv2d(12, 12, kernel_size=(3, 3), stride=(1, 1), padding=(1, 1))\n",
              "    (3): ReLU()\n",
              "    (4): MaxPool2d(kernel_size=2, stride=2, padding=0, dilation=1, ceil_mode=False)\n",
              "  )\n",
              "  (conv_block_2): Sequential(\n",
              "    (0): Conv2d(12, 12, kernel_size=(3, 3), stride=(1, 1), padding=(1, 1))\n",
              "    (1): ReLU()\n",
              "    (2): Conv2d(12, 12, kernel_size=(3, 3), stride=(1, 1), padding=(1, 1))\n",
              "    (3): ReLU()\n",
              "    (4): MaxPool2d(kernel_size=2, stride=2, padding=0, dilation=1, ceil_mode=False)\n",
              "  )\n",
              "  (classifier): Sequential(\n",
              "    (0): Flatten(start_dim=1, end_dim=-1)\n",
              "    (1): Linear(in_features=588, out_features=10, bias=True)\n",
              "  )\n",
              ")"
            ]
          },
          "metadata": {},
          "execution_count": 18
        }
      ]
    },
    {
      "cell_type": "code",
      "source": [
        "# Check out the model state dict to find out what patterns our model wants to learn\n",
        "model_1.state_dict()"
      ],
      "metadata": {
        "colab": {
          "base_uri": "https://localhost:8080/"
        },
        "id": "4BipQkgXjobB",
        "outputId": "4edbc04d-2b12-45d8-b523-3bb6d5d838ca"
      },
      "execution_count": 19,
      "outputs": [
        {
          "output_type": "execute_result",
          "data": {
            "text/plain": [
              "OrderedDict([('conv_block_1.0.weight',\n",
              "              tensor([[[[ 0.2544, -0.1792, -0.0295],\n",
              "                        [ 0.1705,  0.3250,  0.1979],\n",
              "                        [ 0.2885,  0.2080,  0.3333]]],\n",
              "              \n",
              "              \n",
              "                      [[[-0.1301, -0.2478, -0.1830],\n",
              "                        [ 0.2471,  0.2749, -0.1884],\n",
              "                        [ 0.0816,  0.1789, -0.0671]]],\n",
              "              \n",
              "              \n",
              "                      [[[-0.1259,  0.1093,  0.1271],\n",
              "                        [-0.2595,  0.2310,  0.1522],\n",
              "                        [-0.2725,  0.0532, -0.1493]]],\n",
              "              \n",
              "              \n",
              "                      [[[ 0.0087, -0.0565, -0.0345],\n",
              "                        [ 0.1808,  0.2785,  0.0222],\n",
              "                        [-0.1031, -0.1409,  0.2924]]],\n",
              "              \n",
              "              \n",
              "                      [[[-0.1799,  0.1884, -0.0795],\n",
              "                        [ 0.1539, -0.1195, -0.2735],\n",
              "                        [ 0.1366, -0.2870,  0.1446]]],\n",
              "              \n",
              "              \n",
              "                      [[[-0.1806,  0.3051,  0.1137],\n",
              "                        [-0.1131,  0.1549, -0.2938],\n",
              "                        [-0.1997, -0.2854,  0.0484]]],\n",
              "              \n",
              "              \n",
              "                      [[[ 0.3126, -0.0573, -0.0279],\n",
              "                        [-0.1412,  0.1049, -0.1800],\n",
              "                        [ 0.1185, -0.0877,  0.2746]]],\n",
              "              \n",
              "              \n",
              "                      [[[ 0.3100,  0.2214,  0.2401],\n",
              "                        [ 0.1385, -0.2999,  0.1424],\n",
              "                        [-0.0290,  0.2810,  0.1710]]],\n",
              "              \n",
              "              \n",
              "                      [[[-0.0211,  0.2797, -0.0117],\n",
              "                        [ 0.1374,  0.1778,  0.0812],\n",
              "                        [-0.2764,  0.3003, -0.3062]]],\n",
              "              \n",
              "              \n",
              "                      [[[-0.1134, -0.1358,  0.1754],\n",
              "                        [-0.0391,  0.2709,  0.2700],\n",
              "                        [ 0.0014, -0.1910, -0.2638]]],\n",
              "              \n",
              "              \n",
              "                      [[[ 0.1388, -0.2074,  0.2037],\n",
              "                        [-0.1526, -0.0473,  0.2898],\n",
              "                        [-0.2938,  0.1267,  0.0508]]],\n",
              "              \n",
              "              \n",
              "                      [[[-0.2004, -0.0274,  0.0696],\n",
              "                        [ 0.1976,  0.1053,  0.0291],\n",
              "                        [ 0.2049, -0.2618,  0.1749]]]], device='cuda:0')),\n",
              "             ('conv_block_1.0.bias',\n",
              "              tensor([ 0.0388, -0.2737, -0.2451,  0.0327, -0.2081, -0.1170, -0.2334, -0.0396,\n",
              "                      -0.1222,  0.0166,  0.2167,  0.0730], device='cuda:0')),\n",
              "             ('conv_block_1.2.weight',\n",
              "              tensor([[[[ 6.1847e-02, -3.3899e-02, -4.8122e-02],\n",
              "                        [-4.0633e-02,  8.0002e-02,  8.1908e-02],\n",
              "                        [-8.0350e-02, -7.2758e-02, -5.6631e-02]],\n",
              "              \n",
              "                       [[-9.0928e-02,  8.7971e-02,  2.8152e-02],\n",
              "                        [-1.6814e-02,  4.7501e-03,  9.2428e-02],\n",
              "                        [-6.0789e-02,  7.8199e-02,  3.7806e-02]],\n",
              "              \n",
              "                       [[-7.4735e-03, -8.0074e-02,  3.1717e-02],\n",
              "                        [ 4.9642e-02,  3.8180e-02,  8.0483e-02],\n",
              "                        [-3.1039e-02, -9.4830e-02,  1.5864e-02]],\n",
              "              \n",
              "                       ...,\n",
              "              \n",
              "                       [[ 7.8913e-02, -5.8980e-02, -4.6746e-02],\n",
              "                        [-4.9145e-02,  9.5442e-02, -2.5353e-02],\n",
              "                        [ 8.3000e-02, -6.4410e-02, -6.9017e-02]],\n",
              "              \n",
              "                       [[ 3.0627e-02,  4.1698e-02,  6.0004e-02],\n",
              "                        [-7.6790e-02,  3.8448e-02, -7.2219e-02],\n",
              "                        [-4.9539e-02, -7.1529e-02, -5.6165e-02]],\n",
              "              \n",
              "                       [[ 9.4868e-02,  1.4021e-02, -4.7097e-02],\n",
              "                        [-6.5070e-02,  3.6606e-02,  6.5903e-02],\n",
              "                        [ 9.1561e-02, -5.3806e-02, -2.8805e-02]]],\n",
              "              \n",
              "              \n",
              "                      [[[-7.5092e-02, -3.6854e-02,  7.0400e-02],\n",
              "                        [-1.6142e-02, -7.7642e-02,  4.7242e-02],\n",
              "                        [-4.3222e-02,  6.9655e-02, -8.3733e-02]],\n",
              "              \n",
              "                       [[ 5.1218e-02, -1.5142e-02, -4.3642e-02],\n",
              "                        [ 5.0284e-03,  7.7970e-02,  8.9402e-02],\n",
              "                        [ 6.9919e-02,  5.5880e-02, -4.3105e-02]],\n",
              "              \n",
              "                       [[ 8.8761e-02,  6.4450e-02,  5.7768e-02],\n",
              "                        [-2.6800e-02,  4.2685e-02, -3.2688e-04],\n",
              "                        [ 6.4756e-02,  3.3669e-02,  4.7753e-02]],\n",
              "              \n",
              "                       ...,\n",
              "              \n",
              "                       [[ 4.2677e-02, -8.5719e-03,  4.7473e-02],\n",
              "                        [ 3.7943e-02, -1.0409e-02, -2.8657e-02],\n",
              "                        [ 8.7432e-02, -8.6969e-02, -1.9543e-02]],\n",
              "              \n",
              "                       [[-5.4430e-02, -1.3593e-02,  9.3697e-02],\n",
              "                        [ 2.2372e-02,  5.1453e-02,  7.5435e-02],\n",
              "                        [-2.7369e-02, -2.3260e-02,  4.8689e-02]],\n",
              "              \n",
              "                       [[ 5.3708e-02, -7.9429e-02, -1.5332e-02],\n",
              "                        [-6.1496e-02,  4.1899e-02,  8.2809e-02],\n",
              "                        [ 4.9141e-02, -3.8206e-02, -3.6823e-02]]],\n",
              "              \n",
              "              \n",
              "                      [[[ 8.3771e-02, -6.4011e-02, -9.4670e-02],\n",
              "                        [-7.7808e-02,  2.8265e-02, -7.4695e-02],\n",
              "                        [ 8.3253e-02, -4.4669e-03,  6.3529e-03]],\n",
              "              \n",
              "                       [[-1.3735e-02,  1.7311e-02, -4.3326e-02],\n",
              "                        [-5.0303e-02,  9.2516e-02, -8.0452e-02],\n",
              "                        [-5.1764e-02,  6.3743e-02,  8.1422e-02]],\n",
              "              \n",
              "                       [[-2.8143e-02, -1.0696e-02,  5.5872e-02],\n",
              "                        [-8.7322e-02,  6.3220e-02,  9.1537e-02],\n",
              "                        [ 1.1944e-02,  4.7823e-02, -2.0982e-02]],\n",
              "              \n",
              "                       ...,\n",
              "              \n",
              "                       [[ 7.4167e-02,  2.0538e-02, -5.4668e-02],\n",
              "                        [ 5.8294e-03, -7.4115e-02,  9.0360e-02],\n",
              "                        [ 3.1780e-02,  4.2073e-02, -1.0722e-02]],\n",
              "              \n",
              "                       [[-6.1454e-02, -3.2193e-02, -4.2956e-02],\n",
              "                        [ 3.3272e-02,  7.6835e-02,  2.0899e-02],\n",
              "                        [ 7.1329e-02,  5.4046e-02,  4.6383e-02]],\n",
              "              \n",
              "                       [[ 9.4982e-02, -4.2509e-02, -7.3150e-05],\n",
              "                        [-7.9544e-02, -8.3933e-02, -8.8706e-02],\n",
              "                        [ 9.0031e-02, -1.9741e-02, -8.4124e-02]]],\n",
              "              \n",
              "              \n",
              "                      ...,\n",
              "              \n",
              "              \n",
              "                      [[[ 6.9528e-04,  8.0807e-02,  1.6669e-02],\n",
              "                        [ 5.8165e-02, -4.8957e-02,  5.9271e-03],\n",
              "                        [-3.2532e-03,  9.0214e-02,  8.7818e-02]],\n",
              "              \n",
              "                       [[-1.7691e-02,  1.3516e-02,  2.6955e-02],\n",
              "                        [ 9.5908e-02,  5.4343e-02,  5.0521e-02],\n",
              "                        [ 9.1310e-02,  4.7603e-02, -5.4943e-02]],\n",
              "              \n",
              "                       [[-7.5084e-02,  9.1227e-03, -7.6854e-02],\n",
              "                        [ 4.5091e-02,  4.0404e-03,  1.0100e-02],\n",
              "                        [ 6.4290e-02, -9.4397e-02, -1.7859e-02]],\n",
              "              \n",
              "                       ...,\n",
              "              \n",
              "                       [[ 6.6205e-02,  9.9010e-03, -5.3647e-02],\n",
              "                        [ 5.6521e-02,  6.4202e-02,  2.3867e-02],\n",
              "                        [ 3.1278e-02, -4.6329e-02, -7.5519e-02]],\n",
              "              \n",
              "                       [[-4.0234e-02, -5.7413e-02, -1.9676e-02],\n",
              "                        [-5.3939e-02, -8.8984e-02, -6.7558e-03],\n",
              "                        [-8.3705e-02,  8.2910e-02, -1.6456e-02]],\n",
              "              \n",
              "                       [[-2.9175e-03,  3.4942e-02, -2.2175e-02],\n",
              "                        [-7.3515e-02,  6.6654e-02, -9.2749e-02],\n",
              "                        [ 4.2192e-02, -3.8881e-02,  2.1459e-03]]],\n",
              "              \n",
              "              \n",
              "                      [[[ 2.2515e-02,  2.5740e-02,  7.3899e-03],\n",
              "                        [ 9.3058e-02,  3.7386e-02,  8.7476e-03],\n",
              "                        [-9.4553e-02, -2.2527e-02,  3.7848e-02]],\n",
              "              \n",
              "                       [[-7.0814e-02,  7.8247e-02, -5.0071e-02],\n",
              "                        [ 9.0375e-02, -1.2550e-03, -4.1078e-02],\n",
              "                        [-1.6453e-02, -2.4443e-02,  6.3134e-02]],\n",
              "              \n",
              "                       [[ 6.8709e-02,  4.4896e-02, -6.6969e-02],\n",
              "                        [ 8.3790e-02, -1.8827e-02, -5.8057e-02],\n",
              "                        [-7.6966e-02, -5.8913e-02, -1.7595e-02]],\n",
              "              \n",
              "                       ...,\n",
              "              \n",
              "                       [[ 2.2094e-02,  8.9940e-02,  9.0998e-02],\n",
              "                        [ 6.8287e-02, -2.6445e-02, -4.6625e-02],\n",
              "                        [-3.8382e-02, -7.8427e-02,  7.4276e-02]],\n",
              "              \n",
              "                       [[ 3.5135e-03,  3.8033e-02,  4.5984e-02],\n",
              "                        [-5.4886e-02,  8.5192e-02, -3.8491e-02],\n",
              "                        [ 7.7340e-03,  4.9590e-03,  5.5077e-02]],\n",
              "              \n",
              "                       [[ 5.7833e-02,  5.8443e-02,  7.6846e-03],\n",
              "                        [ 9.0190e-02,  8.4651e-02, -7.1877e-02],\n",
              "                        [-3.7081e-03,  5.8421e-02,  9.4914e-03]]],\n",
              "              \n",
              "              \n",
              "                      [[[-3.1359e-03,  4.2036e-02,  5.4993e-02],\n",
              "                        [ 1.7843e-02,  4.8496e-02,  5.6978e-02],\n",
              "                        [-5.0592e-02, -7.6481e-02,  2.5641e-02]],\n",
              "              \n",
              "                       [[-1.0260e-02, -3.2243e-02, -5.9063e-04],\n",
              "                        [ 6.5035e-02,  1.5853e-02, -9.5891e-02],\n",
              "                        [-9.2631e-03,  1.3109e-02,  5.5030e-02]],\n",
              "              \n",
              "                       [[ 1.4442e-02, -6.0192e-02, -4.2041e-02],\n",
              "                        [-5.0024e-02,  5.6258e-02, -7.5111e-02],\n",
              "                        [-2.7248e-03,  4.5012e-03, -8.4477e-02]],\n",
              "              \n",
              "                       ...,\n",
              "              \n",
              "                       [[-8.1614e-02, -9.0524e-02, -7.9357e-02],\n",
              "                        [ 1.4512e-02, -8.6136e-02,  9.0763e-02],\n",
              "                        [ 6.2427e-02,  8.1217e-02,  8.2238e-03]],\n",
              "              \n",
              "                       [[-1.1640e-02, -2.8886e-02, -9.6522e-03],\n",
              "                        [-3.4405e-02,  2.7833e-03, -4.5943e-02],\n",
              "                        [-8.2359e-02, -7.0260e-02, -7.7129e-02]],\n",
              "              \n",
              "                       [[-5.4446e-02,  7.0840e-02, -1.3308e-02],\n",
              "                        [-7.1948e-02, -1.4573e-02,  5.9962e-02],\n",
              "                        [ 6.1883e-02,  3.8430e-02, -4.6302e-02]]]], device='cuda:0')),\n",
              "             ('conv_block_1.2.bias',\n",
              "              tensor([-0.0458,  0.0893, -0.0567, -0.0909, -0.0776, -0.0148, -0.0448, -0.0442,\n",
              "                      -0.0575,  0.0202,  0.0718,  0.0917], device='cuda:0')),\n",
              "             ('conv_block_2.0.weight',\n",
              "              tensor([[[[ 0.0523,  0.0717,  0.0253],\n",
              "                        [ 0.0421, -0.0650,  0.0780],\n",
              "                        [ 0.0506, -0.0413,  0.0743]],\n",
              "              \n",
              "                       [[-0.0794,  0.0636, -0.0722],\n",
              "                        [-0.0283,  0.0646, -0.0645],\n",
              "                        [-0.0540,  0.0947,  0.0103]],\n",
              "              \n",
              "                       [[-0.0122,  0.0797, -0.0072],\n",
              "                        [-0.0904, -0.0300,  0.0002],\n",
              "                        [ 0.0535,  0.0135, -0.0556]],\n",
              "              \n",
              "                       ...,\n",
              "              \n",
              "                       [[ 0.0210, -0.0532,  0.0002],\n",
              "                        [-0.0242, -0.0028, -0.0916],\n",
              "                        [ 0.0089,  0.0917,  0.0592]],\n",
              "              \n",
              "                       [[ 0.0621,  0.0092,  0.0239],\n",
              "                        [-0.0060,  0.0405, -0.0522],\n",
              "                        [ 0.0953,  0.0859, -0.0108]],\n",
              "              \n",
              "                       [[-0.0363,  0.0225,  0.0433],\n",
              "                        [ 0.0624,  0.0741,  0.0434],\n",
              "                        [-0.0491, -0.0753,  0.0654]]],\n",
              "              \n",
              "              \n",
              "                      [[[ 0.0641, -0.0390, -0.0946],\n",
              "                        [ 0.0906,  0.0514, -0.0743],\n",
              "                        [ 0.0905,  0.0408,  0.0271]],\n",
              "              \n",
              "                       [[ 0.0324, -0.0939,  0.0718],\n",
              "                        [ 0.0044, -0.0669, -0.0643],\n",
              "                        [ 0.0029, -0.0184,  0.0200]],\n",
              "              \n",
              "                       [[-0.0119, -0.0213, -0.0006],\n",
              "                        [-0.0591, -0.0425, -0.0950],\n",
              "                        [ 0.0863,  0.0239,  0.0699]],\n",
              "              \n",
              "                       ...,\n",
              "              \n",
              "                       [[-0.0618,  0.0867,  0.0072],\n",
              "                        [ 0.0529,  0.0412, -0.0438],\n",
              "                        [-0.0338,  0.0748,  0.0634]],\n",
              "              \n",
              "                       [[ 0.0061,  0.0045,  0.0261],\n",
              "                        [-0.0830,  0.0349, -0.0349],\n",
              "                        [ 0.0151, -0.0424, -0.0692]],\n",
              "              \n",
              "                       [[ 0.0305,  0.0694,  0.0474],\n",
              "                        [-0.0318, -0.0255, -0.0872],\n",
              "                        [-0.0920,  0.0761,  0.0441]]],\n",
              "              \n",
              "              \n",
              "                      [[[ 0.0409, -0.0477,  0.0829],\n",
              "                        [-0.0754,  0.0124, -0.0050],\n",
              "                        [-0.0278, -0.0360,  0.0552]],\n",
              "              \n",
              "                       [[-0.0576,  0.0575, -0.0226],\n",
              "                        [ 0.0361, -0.0488, -0.0278],\n",
              "                        [ 0.0420,  0.0245, -0.0076]],\n",
              "              \n",
              "                       [[-0.0087, -0.0852, -0.0149],\n",
              "                        [-0.0588,  0.0043,  0.0220],\n",
              "                        [-0.0658, -0.0427,  0.0817]],\n",
              "              \n",
              "                       ...,\n",
              "              \n",
              "                       [[-0.0665, -0.0581,  0.0583],\n",
              "                        [-0.0804,  0.0360,  0.0323],\n",
              "                        [-0.0938,  0.0456, -0.0664]],\n",
              "              \n",
              "                       [[-0.0774,  0.0216, -0.0325],\n",
              "                        [-0.0393,  0.0336,  0.0838],\n",
              "                        [ 0.0112, -0.0704,  0.0650]],\n",
              "              \n",
              "                       [[ 0.0323,  0.0067, -0.0257],\n",
              "                        [ 0.0381, -0.0824,  0.0095],\n",
              "                        [-0.0543, -0.0275,  0.0916]]],\n",
              "              \n",
              "              \n",
              "                      ...,\n",
              "              \n",
              "              \n",
              "                      [[[-0.0737,  0.0614, -0.0834],\n",
              "                        [ 0.0941, -0.0735, -0.0217],\n",
              "                        [ 0.0540,  0.0402,  0.0921]],\n",
              "              \n",
              "                       [[ 0.0102, -0.0418, -0.0477],\n",
              "                        [ 0.0162, -0.0818,  0.0183],\n",
              "                        [-0.0393, -0.0537, -0.0458]],\n",
              "              \n",
              "                       [[ 0.0185,  0.0510, -0.0125],\n",
              "                        [-0.0762,  0.0798, -0.0057],\n",
              "                        [ 0.0338,  0.0516, -0.0207]],\n",
              "              \n",
              "                       ...,\n",
              "              \n",
              "                       [[ 0.0149,  0.0428,  0.0086],\n",
              "                        [-0.0852, -0.0584,  0.0143],\n",
              "                        [-0.0422, -0.0389,  0.0160]],\n",
              "              \n",
              "                       [[-0.0838, -0.0222,  0.0147],\n",
              "                        [ 0.0242,  0.0402, -0.0456],\n",
              "                        [-0.0193, -0.0069, -0.0431]],\n",
              "              \n",
              "                       [[ 0.0615,  0.0874,  0.0414],\n",
              "                        [ 0.0512,  0.0265,  0.0352],\n",
              "                        [ 0.0442, -0.0281,  0.0238]]],\n",
              "              \n",
              "              \n",
              "                      [[[-0.0487,  0.0434, -0.0168],\n",
              "                        [-0.0055,  0.0689, -0.0513],\n",
              "                        [-0.0265,  0.0044,  0.0859]],\n",
              "              \n",
              "                       [[-0.0629, -0.0245,  0.0774],\n",
              "                        [-0.0229, -0.0517, -0.0012],\n",
              "                        [ 0.0796, -0.0715, -0.0116]],\n",
              "              \n",
              "                       [[-0.0341,  0.0042,  0.0521],\n",
              "                        [ 0.0110,  0.0467, -0.0750],\n",
              "                        [ 0.0793, -0.0291, -0.0881]],\n",
              "              \n",
              "                       ...,\n",
              "              \n",
              "                       [[ 0.0593, -0.0028, -0.0733],\n",
              "                        [ 0.0351,  0.0692, -0.0632],\n",
              "                        [ 0.0541, -0.0170,  0.0390]],\n",
              "              \n",
              "                       [[-0.0770,  0.0667,  0.0869],\n",
              "                        [-0.0549, -0.0588, -0.0037],\n",
              "                        [ 0.0066, -0.0760, -0.0887]],\n",
              "              \n",
              "                       [[-0.0467,  0.0573, -0.0731],\n",
              "                        [ 0.0230, -0.0479, -0.0410],\n",
              "                        [-0.0157,  0.0171, -0.0464]]],\n",
              "              \n",
              "              \n",
              "                      [[[ 0.0903, -0.0345,  0.0146],\n",
              "                        [ 0.0101, -0.0429,  0.0545],\n",
              "                        [ 0.0776,  0.0878,  0.0854]],\n",
              "              \n",
              "                       [[ 0.0486, -0.0534, -0.0713],\n",
              "                        [-0.0939,  0.0094,  0.0416],\n",
              "                        [ 0.0183, -0.0520, -0.0696]],\n",
              "              \n",
              "                       [[-0.0081,  0.0254,  0.0778],\n",
              "                        [-0.0297, -0.0077,  0.0039],\n",
              "                        [ 0.0779,  0.0539,  0.0287]],\n",
              "              \n",
              "                       ...,\n",
              "              \n",
              "                       [[-0.0907,  0.0293,  0.0017],\n",
              "                        [-0.0449,  0.0823,  0.0285],\n",
              "                        [ 0.0097, -0.0331,  0.0907]],\n",
              "              \n",
              "                       [[ 0.0104,  0.0788,  0.0608],\n",
              "                        [-0.0868,  0.0052, -0.0885],\n",
              "                        [ 0.0958,  0.0815,  0.0922]],\n",
              "              \n",
              "                       [[-0.0329,  0.0130, -0.0289],\n",
              "                        [-0.0676, -0.0929,  0.0446],\n",
              "                        [ 0.0410,  0.0176, -0.0026]]]], device='cuda:0')),\n",
              "             ('conv_block_2.0.bias',\n",
              "              tensor([-0.0583,  0.0830,  0.0568,  0.0740,  0.0282,  0.0940, -0.0387, -0.0451,\n",
              "                       0.0468,  0.0852, -0.0257,  0.0524], device='cuda:0')),\n",
              "             ('conv_block_2.2.weight',\n",
              "              tensor([[[[-0.0477, -0.0400, -0.0886],\n",
              "                        [ 0.0659, -0.0292,  0.0370],\n",
              "                        [ 0.0409,  0.0526,  0.0657]],\n",
              "              \n",
              "                       [[-0.0296,  0.0484,  0.0054],\n",
              "                        [-0.0393,  0.0465,  0.0543],\n",
              "                        [ 0.0538, -0.0650,  0.0927]],\n",
              "              \n",
              "                       [[-0.0942,  0.0373, -0.0909],\n",
              "                        [ 0.0855, -0.0030,  0.0593],\n",
              "                        [ 0.0896, -0.0829,  0.0643]],\n",
              "              \n",
              "                       ...,\n",
              "              \n",
              "                       [[-0.0547,  0.0429, -0.0684],\n",
              "                        [-0.0029,  0.0147, -0.0220],\n",
              "                        [-0.0804, -0.0208, -0.0007]],\n",
              "              \n",
              "                       [[ 0.0446,  0.0188, -0.0752],\n",
              "                        [-0.0416,  0.0640,  0.0671],\n",
              "                        [ 0.0260, -0.0450,  0.0136]],\n",
              "              \n",
              "                       [[-0.0570, -0.0470,  0.0875],\n",
              "                        [-0.0750, -0.0889, -0.0726],\n",
              "                        [ 0.0569,  0.0294, -0.0201]]],\n",
              "              \n",
              "              \n",
              "                      [[[-0.0730,  0.0203, -0.0902],\n",
              "                        [ 0.0327, -0.0304,  0.0432],\n",
              "                        [-0.0841,  0.0757, -0.0758]],\n",
              "              \n",
              "                       [[ 0.0036,  0.0335, -0.0907],\n",
              "                        [-0.0809,  0.0902, -0.0864],\n",
              "                        [ 0.0326, -0.0069,  0.0111]],\n",
              "              \n",
              "                       [[ 0.0166,  0.0382, -0.0196],\n",
              "                        [-0.0360, -0.0373,  0.0216],\n",
              "                        [ 0.0824,  0.0107,  0.0199]],\n",
              "              \n",
              "                       ...,\n",
              "              \n",
              "                       [[ 0.0829,  0.0785,  0.0897],\n",
              "                        [ 0.0290,  0.0053, -0.0092],\n",
              "                        [ 0.0593, -0.0568, -0.0722]],\n",
              "              \n",
              "                       [[ 0.0198,  0.0079,  0.0071],\n",
              "                        [ 0.0089, -0.0298, -0.0244],\n",
              "                        [-0.0809,  0.0391, -0.0500]],\n",
              "              \n",
              "                       [[-0.0171,  0.0343,  0.0702],\n",
              "                        [ 0.0068,  0.0896, -0.0803],\n",
              "                        [ 0.0641,  0.0751,  0.0508]]],\n",
              "              \n",
              "              \n",
              "                      [[[-0.0864, -0.0754,  0.0707],\n",
              "                        [-0.0251, -0.0142,  0.0881],\n",
              "                        [ 0.0461,  0.0078,  0.0666]],\n",
              "              \n",
              "                       [[-0.0437, -0.0009,  0.0383],\n",
              "                        [-0.0173,  0.0264,  0.0062],\n",
              "                        [-0.0036, -0.0866, -0.0015]],\n",
              "              \n",
              "                       [[-0.0276, -0.0731, -0.0836],\n",
              "                        [ 0.0124, -0.0890,  0.0935],\n",
              "                        [ 0.0859,  0.0196, -0.0164]],\n",
              "              \n",
              "                       ...,\n",
              "              \n",
              "                       [[ 0.0793, -0.0704, -0.0336],\n",
              "                        [ 0.0278,  0.0913, -0.0270],\n",
              "                        [ 0.0601,  0.0522, -0.0929]],\n",
              "              \n",
              "                       [[-0.0353, -0.0454, -0.0576],\n",
              "                        [-0.0350, -0.0460, -0.0808],\n",
              "                        [-0.0464, -0.0584, -0.0928]],\n",
              "              \n",
              "                       [[ 0.0595,  0.0126, -0.0455],\n",
              "                        [ 0.0363, -0.0878, -0.0302],\n",
              "                        [-0.0227, -0.0839, -0.0424]]],\n",
              "              \n",
              "              \n",
              "                      ...,\n",
              "              \n",
              "              \n",
              "                      [[[-0.0532, -0.0854, -0.0903],\n",
              "                        [ 0.0349, -0.0786, -0.0026],\n",
              "                        [ 0.0082,  0.0189,  0.0030]],\n",
              "              \n",
              "                       [[ 0.0868,  0.0176, -0.0759],\n",
              "                        [-0.0118,  0.0745,  0.0360],\n",
              "                        [-0.0109, -0.0937, -0.0312]],\n",
              "              \n",
              "                       [[-0.0343,  0.0141,  0.0036],\n",
              "                        [-0.0406, -0.0038, -0.0400],\n",
              "                        [-0.0041, -0.0455,  0.0718]],\n",
              "              \n",
              "                       ...,\n",
              "              \n",
              "                       [[-0.0331,  0.0938,  0.0118],\n",
              "                        [ 0.0067, -0.0574, -0.0344],\n",
              "                        [-0.0369, -0.0530, -0.0602]],\n",
              "              \n",
              "                       [[ 0.0122,  0.0096, -0.0596],\n",
              "                        [ 0.0622,  0.0459, -0.0566],\n",
              "                        [ 0.0870,  0.0169, -0.0654]],\n",
              "              \n",
              "                       [[-0.0385,  0.0325, -0.0413],\n",
              "                        [ 0.0129,  0.0363, -0.0751],\n",
              "                        [-0.0412,  0.0312,  0.0909]]],\n",
              "              \n",
              "              \n",
              "                      [[[-0.0871, -0.0942,  0.0882],\n",
              "                        [-0.0418,  0.0952,  0.0677],\n",
              "                        [-0.0049, -0.0298, -0.0603]],\n",
              "              \n",
              "                       [[-0.0901,  0.0918, -0.0782],\n",
              "                        [ 0.0243,  0.0364,  0.0466],\n",
              "                        [-0.0629, -0.0943,  0.0218]],\n",
              "              \n",
              "                       [[ 0.0557,  0.0812,  0.0952],\n",
              "                        [ 0.0146,  0.0928, -0.0316],\n",
              "                        [-0.0103, -0.0490, -0.0869]],\n",
              "              \n",
              "                       ...,\n",
              "              \n",
              "                       [[-0.0089,  0.0209, -0.0402],\n",
              "                        [-0.0315, -0.0511, -0.0688],\n",
              "                        [-0.0117, -0.0001,  0.0113]],\n",
              "              \n",
              "                       [[ 0.0821, -0.0216,  0.0556],\n",
              "                        [-0.0696, -0.0690, -0.0450],\n",
              "                        [ 0.0803,  0.0786, -0.0167]],\n",
              "              \n",
              "                       [[ 0.0737,  0.0133,  0.0789],\n",
              "                        [-0.0750,  0.0433, -0.0889],\n",
              "                        [-0.0292,  0.0739,  0.0665]]],\n",
              "              \n",
              "              \n",
              "                      [[[ 0.0381, -0.0394,  0.0750],\n",
              "                        [ 0.0796,  0.0911,  0.0533],\n",
              "                        [-0.0300,  0.0263, -0.0035]],\n",
              "              \n",
              "                       [[ 0.0207,  0.0327, -0.0779],\n",
              "                        [-0.0641, -0.0953, -0.0512],\n",
              "                        [-0.0766, -0.0536, -0.0405]],\n",
              "              \n",
              "                       [[ 0.0693, -0.0118,  0.0866],\n",
              "                        [-0.0819,  0.0183,  0.0039],\n",
              "                        [ 0.0313,  0.0714,  0.0318]],\n",
              "              \n",
              "                       ...,\n",
              "              \n",
              "                       [[ 0.0500,  0.0709, -0.0435],\n",
              "                        [ 0.0601,  0.0210,  0.0372],\n",
              "                        [-0.0616, -0.0066,  0.0208]],\n",
              "              \n",
              "                       [[ 0.0335, -0.0783,  0.0250],\n",
              "                        [-0.0368, -0.0541,  0.0205],\n",
              "                        [ 0.0413, -0.0529,  0.0790]],\n",
              "              \n",
              "                       [[-0.0356, -0.0861,  0.0450],\n",
              "                        [-0.0482,  0.0889,  0.0341],\n",
              "                        [-0.0245, -0.0762,  0.0869]]]], device='cuda:0')),\n",
              "             ('conv_block_2.2.bias',\n",
              "              tensor([ 0.0278, -0.0295,  0.0820, -0.0914,  0.0891,  0.0219,  0.0295, -0.0891,\n",
              "                      -0.0481, -0.0367,  0.0095,  0.0856], device='cuda:0')),\n",
              "             ('classifier.1.weight',\n",
              "              tensor([[ 0.0320, -0.0265, -0.0373,  ..., -0.0278, -0.0160, -0.0218],\n",
              "                      [-0.0359, -0.0410,  0.0316,  ..., -0.0327, -0.0085,  0.0275],\n",
              "                      [ 0.0290, -0.0375,  0.0364,  ...,  0.0111,  0.0044,  0.0176],\n",
              "                      ...,\n",
              "                      [ 0.0094,  0.0039, -0.0138,  ...,  0.0175,  0.0093, -0.0105],\n",
              "                      [ 0.0343,  0.0304, -0.0313,  ...,  0.0109,  0.0397, -0.0241],\n",
              "                      [ 0.0160, -0.0353,  0.0301,  ...,  0.0238, -0.0289, -0.0257]],\n",
              "                     device='cuda:0')),\n",
              "             ('classifier.1.bias',\n",
              "              tensor([ 0.0343,  0.0325,  0.0045, -0.0390,  0.0158,  0.0367, -0.0204,  0.0334,\n",
              "                      -0.0281,  0.0147], device='cuda:0'))])"
            ]
          },
          "metadata": {},
          "execution_count": 19
        }
      ]
    },
    {
      "cell_type": "code",
      "source": [
        "# Let have a dummy forward pass to see what shapes our data is\n",
        "dum_val = torch.rand(size=(1, 28, 28)).unsqueeze(dim=0).to(device)\n",
        "print(dum_val.shape)\n",
        "model_1(dum_val)"
      ],
      "metadata": {
        "colab": {
          "base_uri": "https://localhost:8080/"
        },
        "id": "Mhin8PYClp2l",
        "outputId": "2d759a36-8096-4635-ae4e-0db6bd30cd1e"
      },
      "execution_count": 20,
      "outputs": [
        {
          "output_type": "stream",
          "name": "stdout",
          "text": [
            "torch.Size([1, 1, 28, 28])\n"
          ]
        },
        {
          "output_type": "execute_result",
          "data": {
            "text/plain": [
              "tensor([[ 0.0511,  0.0617,  0.0009, -0.0434,  0.0180,  0.0299,  0.0029,  0.0378,\n",
              "         -0.0215, -0.0129]], device='cuda:0', grad_fn=<AddmmBackward0>)"
            ]
          },
          "metadata": {},
          "execution_count": 20
        }
      ]
    },
    {
      "cell_type": "code",
      "source": [
        "dum_val_1= torch.rand(size=([1, 11, 8, 8]))\n",
        "dum_val_1.shape"
      ],
      "metadata": {
        "colab": {
          "base_uri": "https://localhost:8080/"
        },
        "id": "wzdtz2Jcl8tc",
        "outputId": "d85bfed8-4ce1-463b-b19b-da1c61a9f95b"
      },
      "execution_count": 21,
      "outputs": [
        {
          "output_type": "execute_result",
          "data": {
            "text/plain": [
              "torch.Size([1, 11, 8, 8])"
            ]
          },
          "metadata": {},
          "execution_count": 21
        }
      ]
    },
    {
      "cell_type": "code",
      "source": [
        "#Let flatten the data\n",
        "flatten_layer = nn.Flatten()\n",
        "flatten_layer(dum_val_1).shape"
      ],
      "metadata": {
        "colab": {
          "base_uri": "https://localhost:8080/"
        },
        "id": "M0XTEJf1mYkj",
        "outputId": "1a52c139-5bce-4ff4-c59a-c8d5a777e668"
      },
      "execution_count": 22,
      "outputs": [
        {
          "output_type": "execute_result",
          "data": {
            "text/plain": [
              "torch.Size([1, 704])"
            ]
          },
          "metadata": {},
          "execution_count": 22
        }
      ]
    },
    {
      "cell_type": "markdown",
      "source": [
        "## 9. Train the model you built in exercise 8. for 5 epochs on CPU and GPU and see how long it takes on each."
      ],
      "metadata": {
        "id": "GsJw2faunslQ"
      }
    },
    {
      "cell_type": "code",
      "source": [
        "%%time\n",
        "from tqdm.auto import tqdm\n",
        "\n",
        "# let train on CPU\n",
        "model_on_cpu = MNIST_model(input_shape=1,\n",
        "                        hidden_units=10,\n",
        "                        output_shape=10).to(\"cpu\")\n",
        "\n",
        "# A loss function and optimizer creation\n",
        "loss_fn = nn.CrossEntropyLoss()\n",
        "optimizer = torch.optim.SGD(model_on_cpu.parameters(), lr=0.1)\n",
        "\n",
        "## Training loop\n",
        "epochs = 5\n",
        "for epoch in tqdm(range(epochs)):\n",
        "  train_loss = 0\n",
        "  for batch, (X, y) in enumerate(train_dataloader):\n",
        "    model_on_cpu.train()\n",
        "\n",
        "    # Put data on CPU\n",
        "    X, y = X.to(\"cpu\"), y.to(\"cpu\")\n",
        "\n",
        "    # Forward pass\n",
        "    y_pred = model_on_cpu(X)\n",
        "\n",
        "    # Loss calculation\n",
        "    loss = loss_fn(y_pred, y)\n",
        "    train_loss += loss\n",
        "\n",
        "    # Optimizer zero grad\n",
        "    optimizer.zero_grad()\n",
        "\n",
        "    # Loss backward\n",
        "    loss.backward()\n",
        "\n",
        "    # Step the optimizer\n",
        "    optimizer.step()\n",
        "\n",
        "  # Adjust train loss for number of batches\n",
        "  train_loss /= len(train_dataloader)\n",
        "\n",
        "  ### Testing loop\n",
        "  test_loss_total = 0\n",
        "\n",
        "  # Put model in eval mode\n",
        "  model_on_cpu.eval()\n",
        "\n",
        "  # Turn on inference mode\n",
        "  with torch.inference_mode():\n",
        "    for batch, (X_test, y_test) in enumerate(test_dataloader):\n",
        "      # Make sure test data on CPU\n",
        "      X_test, y_test = X_test.to(\"cpu\"), y_test.to(\"cpu\")\n",
        "      test_pred = model_on_cpu(X_test)\n",
        "      test_loss = loss_fn(test_pred, y_test)\n",
        "\n",
        "      test_loss_total += test_loss\n",
        "\n",
        "    test_loss_total /= len(test_dataloader)\n",
        "\n",
        "  # Print out what's happening\n",
        "  print(f\"Epoch: {epoch} | Loss: {train_loss:.3f} | Test loss: {test_loss_total:.3f}\")"
      ],
      "metadata": {
        "colab": {
          "base_uri": "https://localhost:8080/",
          "height": 173,
          "referenced_widgets": [
            "97372c821ceb417bac8e0dff5a6180d7",
            "dcc55713756a42a8ab95366eaa5922a2",
            "972d6970c02c42bdb7ec1f7d15320816",
            "b6aa09da91554a39bce3445b23672100",
            "f4073dada616450dbec401a1d1f8e6d9",
            "a188970d847f4654a5a70c624cfeab19",
            "7843b4af52ac4a39a2abb0c155db5d33",
            "2323d67ddf3a45a2844d71b5e003c98d",
            "75bf281a0c404c3e85dc70022639092a",
            "27d498ade5424a61927b7171880bc94f",
            "9b46666a61744cc0955f7b656613f8c3"
          ]
        },
        "id": "_D5JROxfnxko",
        "outputId": "efc771e0-522c-41ab-d74c-eaaa48488287"
      },
      "execution_count": 23,
      "outputs": [
        {
          "output_type": "display_data",
          "data": {
            "text/plain": [
              "  0%|          | 0/5 [00:00<?, ?it/s]"
            ],
            "application/vnd.jupyter.widget-view+json": {
              "version_major": 2,
              "version_minor": 0,
              "model_id": "97372c821ceb417bac8e0dff5a6180d7"
            }
          },
          "metadata": {}
        },
        {
          "output_type": "stream",
          "name": "stdout",
          "text": [
            "Epoch: 0 | Loss: 0.322 | Test loss: 0.086\n",
            "Epoch: 1 | Loss: 0.085 | Test loss: 0.065\n",
            "Epoch: 2 | Loss: 0.066 | Test loss: 0.056\n",
            "Epoch: 3 | Loss: 0.057 | Test loss: 0.049\n",
            "Epoch: 4 | Loss: 0.050 | Test loss: 0.044\n",
            "CPU times: user 3min 11s, sys: 1.42 s, total: 3min 13s\n",
            "Wall time: 3min 14s\n"
          ]
        }
      ]
    },
    {
      "cell_type": "code",
      "source": [
        "%%time\n",
        "from tqdm.auto import tqdm\n",
        "\n",
        "device = \"cuda\" if torch.cuda.is_available() else \"cpu\"\n",
        "\n",
        "# Train on GPU\n",
        "model_on_gpu = MNIST_model(input_shape=1,\n",
        "                        hidden_units=10,\n",
        "                        output_shape=10).to(device)\n",
        "\n",
        "# Create a loss function and optimizer\n",
        "loss_fn = nn.CrossEntropyLoss()\n",
        "optimizer = torch.optim.SGD(model_on_gpu.parameters(), lr=0.1)\n",
        "\n",
        "# Training loop\n",
        "epochs = 5\n",
        "for epoch in tqdm(range(epochs)):\n",
        "  train_loss = 0\n",
        "  model_on_gpu.train()\n",
        "  for batch, (X, y) in enumerate(train_dataloader):\n",
        "    # Put data on target device\n",
        "    X, y = X.to(device), y.to(device)\n",
        "\n",
        "    # Forward pass\n",
        "    y_pred =  model_on_gpu(X)\n",
        "\n",
        "    # Loss calculation\n",
        "    loss = loss_fn(y_pred, y)\n",
        "    train_loss += loss\n",
        "\n",
        "    # Optimizer zero grad\n",
        "    optimizer.zero_grad()\n",
        "\n",
        "    # Loss backward\n",
        "    loss.backward()\n",
        "\n",
        "    # Step the optimizer\n",
        "    optimizer.step()\n",
        "\n",
        "  # Adjust train loss to number of batches\n",
        "  train_loss /= len(train_dataloader)\n",
        "\n",
        "  ### Testing loop\n",
        "  test_loss_total = 0\n",
        "  # Put model in eval mode and turn on inference mode\n",
        "  model_on_gpu.eval()\n",
        "  with torch.inference_mode():\n",
        "    for batch, (X_test, y_test) in enumerate(test_dataloader):\n",
        "      # Make sure test data on target device\n",
        "      X_test, y_test = X_test.to(device), y_test.to(device)\n",
        "\n",
        "      test_pred =  model_on_gpu(X_test)\n",
        "      test_loss = loss_fn(test_pred, y_test)\n",
        "\n",
        "      test_loss_total += test_loss\n",
        "\n",
        "    # Adjust test loss total for number of batches\n",
        "    test_loss_total /= len(test_dataloader)\n",
        "\n",
        "  # Print out what's happening\n",
        "  print(f\"Epoch: {epoch} | Loss: {train_loss:.3f} | Test loss: {test_loss_total:.3f}\")\n",
        ""
      ],
      "metadata": {
        "colab": {
          "base_uri": "https://localhost:8080/",
          "height": 173,
          "referenced_widgets": [
            "132cbe28bdc84cb6a8422454da537b5d",
            "d3fcf77cff03497f9356725320625370",
            "27bc759d95c0459e8db923833aee42ab",
            "ff8620e833c74f9cb14c3394504bfcd7",
            "8c9a1af3360b4a7a9068d7ac6d87e0ad",
            "9f3adc5acef34b6a8b2eb75a6cf5f5d1",
            "1dc3c9118189420990aae6436027b547",
            "8dd26680668a447db6ff1de960bb3cf2",
            "f99003c5b4774ad8b0969cfc68e62fd5",
            "d0b0df9723c945aea5dc0c9a47c2b511",
            "cce238de72da4ac989bd260cfb04b8d6"
          ]
        },
        "id": "YBM22PCOs92L",
        "outputId": "248f5247-5182-44dd-ac6e-2b173c435537"
      },
      "execution_count": 25,
      "outputs": [
        {
          "output_type": "display_data",
          "data": {
            "text/plain": [
              "  0%|          | 0/5 [00:00<?, ?it/s]"
            ],
            "application/vnd.jupyter.widget-view+json": {
              "version_major": 2,
              "version_minor": 0,
              "model_id": "132cbe28bdc84cb6a8422454da537b5d"
            }
          },
          "metadata": {}
        },
        {
          "output_type": "stream",
          "name": "stdout",
          "text": [
            "Epoch: 0 | Loss: 0.383 | Test loss: 0.071\n",
            "Epoch: 1 | Loss: 0.076 | Test loss: 0.053\n",
            "Epoch: 2 | Loss: 0.059 | Test loss: 0.048\n",
            "Epoch: 3 | Loss: 0.051 | Test loss: 0.041\n",
            "Epoch: 4 | Loss: 0.043 | Test loss: 0.052\n",
            "CPU times: user 1min 1s, sys: 613 ms, total: 1min 2s\n",
            "Wall time: 1min 5s\n"
          ]
        }
      ]
    },
    {
      "cell_type": "markdown",
      "source": [
        "## 10. Make predictions using your trained model and visualize at least 5 of them comparing the prediciton to the target label."
      ],
      "metadata": {
        "id": "NT8niLb6vmkK"
      }
    },
    {
      "cell_type": "code",
      "source": [
        "# Logits -> Prediction probabilities -> Prediction labels\n",
        "model_pred_logits = model_on_gpu(test_data[0][0].unsqueeze(dim=0).to(device)) # make sure image is right shape + on right device\n",
        "model_pred_probs = torch.softmax(model_pred_logits, dim=1)\n",
        "model_pred_label = torch.argmax(model_pred_probs, dim=1)\n",
        "model_pred_label"
      ],
      "metadata": {
        "colab": {
          "base_uri": "https://localhost:8080/"
        },
        "id": "wsrXCnwiwMCP",
        "outputId": "c9123e9d-1395-4271-af72-2cf51dec9f81"
      },
      "execution_count": 26,
      "outputs": [
        {
          "output_type": "execute_result",
          "data": {
            "text/plain": [
              "tensor([7], device='cuda:0')"
            ]
          },
          "metadata": {},
          "execution_count": 26
        }
      ]
    },
    {
      "cell_type": "code",
      "source": [
        "# Make predictions with the trained model\n",
        "plt.imshow(test_data[0][0].squeeze(), cmap=\"gray\")"
      ],
      "metadata": {
        "colab": {
          "base_uri": "https://localhost:8080/",
          "height": 448
        },
        "id": "PF30HQVHhSiG",
        "outputId": "fff45654-5262-4d85-afc3-6761f3130b72"
      },
      "execution_count": 27,
      "outputs": [
        {
          "output_type": "execute_result",
          "data": {
            "text/plain": [
              "<matplotlib.image.AxesImage at 0x7967c43bbee0>"
            ]
          },
          "metadata": {},
          "execution_count": 27
        },
        {
          "output_type": "display_data",
          "data": {
            "text/plain": [
              "<Figure size 640x480 with 1 Axes>"
            ],
            "image/png": "[encoded data removed]"
          },
          "metadata": {}
        }
      ]
    },
    {
      "cell_type": "code",
      "source": [
        "numPlot = 5\n",
        "for j in range(numPlot):\n",
        "  # Get image and labels from the test data\n",
        "  image = test_data[j][0]\n",
        "  label = test_data[j][1]\n",
        "\n",
        "  # Make prediction on image\n",
        "  model_pred_logits = model_on_gpu(image.unsqueeze(dim=0).to(device))\n",
        "  model_pred_probs = torch.softmax(model_pred_logits, dim=1)\n",
        "  model_pred_label = torch.argmax(model_pred_probs, dim=1)\n",
        "\n",
        "  # Plot the image and prediction\n",
        "  plt.figure()\n",
        "  plt.figure(figsize=(2, 2))\n",
        "  plt.imshow(image.squeeze(), cmap=\"gray\")\n",
        "  plt.title(f\"Truth: {label} | Pred: {model_pred_label.cpu().item()}\")\n",
        "  plt.axis(False);"
      ],
      "metadata": {
        "colab": {
          "base_uri": "https://localhost:8080/",
          "height": 1000
        },
        "id": "2i1IKdx_wxJp",
        "outputId": "cbd6642f-9a05-42a7-9d6e-c248f95f9d5f"
      },
      "execution_count": 29,
      "outputs": [
        {
          "output_type": "display_data",
          "data": {
            "text/plain": [
              "<Figure size 640x480 with 0 Axes>"
            ]
          },
          "metadata": {}
        },
        {
          "output_type": "display_data",
          "data": {
            "text/plain": [
              "<Figure size 200x200 with 1 Axes>"
            ],
            "image/png": "[encoded data removed]"
          },
          "metadata": {}
        },
        {
          "output_type": "display_data",
          "data": {
            "text/plain": [
              "<Figure size 640x480 with 0 Axes>"
            ]
          },
          "metadata": {}
        },
        {
          "output_type": "display_data",
          "data": {
            "text/plain": [
              "<Figure size 200x200 with 1 Axes>"
            ],
            "image/png": "[encoded data removed]"
          },
          "metadata": {}
        },
        {
          "output_type": "display_data",
          "data": {
            "text/plain": [
              "<Figure size 640x480 with 0 Axes>"
            ]
          },
          "metadata": {}
        },
        {
          "output_type": "display_data",
          "data": {
            "text/plain": [
              "<Figure size 200x200 with 1 Axes>"
            ],
            "image/png": "[encoded data removed]"
          },
          "metadata": {}
        },
        {
          "output_type": "display_data",
          "data": {
            "text/plain": [
              "<Figure size 640x480 with 0 Axes>"
            ]
          },
          "metadata": {}
        },
        {
          "output_type": "display_data",
          "data": {
            "text/plain": [
              "<Figure size 200x200 with 1 Axes>"
            ],
            "image/png": "[encoded data removed]"
          },
          "metadata": {}
        },
        {
          "output_type": "display_data",
          "data": {
            "text/plain": [
              "<Figure size 640x480 with 0 Axes>"
            ]
          },
          "metadata": {}
        },
        {
          "output_type": "display_data",
          "data": {
            "text/plain": [
              "<Figure size 200x200 with 1 Axes>"
            ],
            "image/png": "[encoded data removed]"
          },
          "metadata": {}
        }
      ]
    },
    {
      "cell_type": "markdown",
      "source": [
        "## 11. Plot a confusion matrix comparing your model's predictions to the truth labels."
      ],
      "metadata": {
        "id": "Fv9XBebyyiEz"
      }
    },
    {
      "cell_type": "code",
      "source": [
        "# Find out to install if torchmetrics not exists.\n",
        "try:\n",
        "    import torchmetrics, mlxtend\n",
        "    print(f\"mlxtend version: {mlxtend.__version__}\")\n",
        "    assert int(mlxtend.__version__.split(\".\")[1]) >= 19, \"mlxtend verison should be 0.19.0 or higher\"\n",
        "except:\n",
        "    !pip install -q torchmetrics -U mlxtend # <- Note: If you're using Google Colab, this may require restarting the runtime\n",
        "    import torchmetrics, mlxtend\n",
        "    print(f\"mlxtend version: {mlxtend.__version__}\")"
      ],
      "metadata": {
        "colab": {
          "base_uri": "https://localhost:8080/"
        },
        "id": "fgQDYdveymgw",
        "outputId": "2dfca1d6-d7de-4168-b2f0-952d60503725"
      },
      "execution_count": 31,
      "outputs": [
        {
          "output_type": "stream",
          "name": "stdout",
          "text": [
            "mlxtend version: 0.23.1\n"
          ]
        }
      ]
    },
    {
      "cell_type": "code",
      "source": [
        "# Let import mlxtend upgraded version\n",
        "import mlxtend\n",
        "print(mlxtend.__version__)\n",
        "assert int(mlxtend.__version__.split(\".\")[1]) >= 20 # version should be less than 0.20.0"
      ],
      "metadata": {
        "colab": {
          "base_uri": "https://localhost:8080/"
        },
        "id": "OsUct5rMy_rf",
        "outputId": "24d5cc07-8225-4b6b-c231-5de478b26b6e"
      },
      "execution_count": 32,
      "outputs": [
        {
          "output_type": "stream",
          "name": "stdout",
          "text": [
            "0.23.1\n"
          ]
        }
      ]
    },
    {
      "cell_type": "code",
      "source": [
        "# Let make predictions across all test data\n",
        "from tqdm.auto import tqdm\n",
        "model_on_gpu.eval()\n",
        "y_preds = []\n",
        "with torch.inference_mode():\n",
        "  for batch, (X, y) in tqdm(enumerate(test_dataloader)):\n",
        "    # Make sure data on right device\n",
        "    X, y = X.to(device), y.to(device)\n",
        "    # Forward pass\n",
        "    y_pred_logits = model_on_gpu(X)\n",
        "    # Logits -> Pred probs -> Pred label\n",
        "    y_pred_labels = torch.argmax(torch.softmax(y_pred_logits, dim=1), dim=1)\n",
        "    # Append the labels to the preds list\n",
        "    y_preds.append(y_pred_labels)\n",
        "  y_preds=torch.cat(y_preds).cpu()\n",
        "len(y_preds)"
      ],
      "metadata": {
        "colab": {
          "base_uri": "https://localhost:8080/",
          "height": 67,
          "referenced_widgets": [
            "f52337c8bd3641f1b3853718ffa01fbc",
            "dea4b070c09a4ea392b8e4b375a55154",
            "7d70d9e7938541ac92c20fab9ee2e2f3",
            "964d85bf31c84b028c5c353decc78e53",
            "7c908bce35374164a0adade0c31c7769",
            "080a7c397cb144a8ab9248b01b2b5805",
            "9cdb33619f55421695f5efa5789a0c06",
            "d7dfb62402534a2ca79627d6e8146675",
            "9a050b5b4ea94b0595023a8776ba9d62",
            "7721a823f9844e4cbb769713ae2c3591",
            "7cdd5bc0bff943b99a058cf3e2600d97"
          ]
        },
        "id": "TkrkVubwzMdx",
        "outputId": "e266bc7e-0db7-4858-f1ca-e9bdbf9bc07f"
      },
      "execution_count": 33,
      "outputs": [
        {
          "output_type": "display_data",
          "data": {
            "text/plain": [
              "0it [00:00, ?it/s]"
            ],
            "application/vnd.jupyter.widget-view+json": {
              "version_major": 2,
              "version_minor": 0,
              "model_id": "f52337c8bd3641f1b3853718ffa01fbc"
            }
          },
          "metadata": {}
        },
        {
          "output_type": "execute_result",
          "data": {
            "text/plain": [
              "10000"
            ]
          },
          "metadata": {},
          "execution_count": 33
        }
      ]
    },
    {
      "cell_type": "code",
      "source": [
        "from torchmetrics import ConfusionMatrix\n",
        "from mlxtend.plotting import plot_confusion_matrix\n",
        "\n",
        "# Setup confusion matrix\n",
        "confmat = ConfusionMatrix(task=\"multiclass\", num_classes=len(class_names))\n",
        "confmat_tensor = confmat(preds=y_preds,\n",
        "                         target=test_data.targets)\n",
        "\n",
        "# Plot the confusion matrix\n",
        "fix, ax = plot_confusion_matrix(\n",
        "    conf_mat=confmat_tensor.numpy(),\n",
        "    class_names=class_names,\n",
        "    figsize=(8, 7)\n",
        ")"
      ],
      "metadata": {
        "colab": {
          "base_uri": "https://localhost:8080/",
          "height": 660
        },
        "id": "64DInqzjzofg",
        "outputId": "2edce45b-8921-453a-aedb-554a1fd7521f"
      },
      "execution_count": 36,
      "outputs": [
        {
          "output_type": "display_data",
          "data": {
            "text/plain": [
              "<Figure size 800x700 with 1 Axes>"
            ],
            "image/png": "[encoded data removed]"
          },
          "metadata": {}
        }
      ]
    },
    {
      "cell_type": "markdown",
      "source": [
        "## 12. Create a random tensor of shape [1, 3, 64, 64] and pass it through a nn.Conv2d() layer with various hyperparameter settings (these can be any settings you choose), what do you notice if the kernel_size parameter goes up and down?"
      ],
      "metadata": {
        "id": "p-Yfmb-H1AhH"
      }
    },
    {
      "cell_type": "code",
      "source": [
        "random_tensor = torch.rand([1, 3, 64, 64])\n",
        "random_tensor.shape"
      ],
      "metadata": {
        "colab": {
          "base_uri": "https://localhost:8080/"
        },
        "id": "6ma7ajq_1e7m",
        "outputId": "25e7ed17-bfa7-4b6c-b875-7a3fcd50d80a"
      },
      "execution_count": 37,
      "outputs": [
        {
          "output_type": "execute_result",
          "data": {
            "text/plain": [
              "torch.Size([1, 3, 64, 64])"
            ]
          },
          "metadata": {},
          "execution_count": 37
        }
      ]
    },
    {
      "cell_type": "code",
      "source": [
        "conv_layer = nn.Conv2d(in_channels=3,\n",
        "                       out_channels=64,\n",
        "                       kernel_size=3,\n",
        "                       stride=2,\n",
        "                       padding=1)\n",
        "\n",
        "print(f\"Random tensor original shape: {random_tensor.shape}\")\n",
        "random_tensor_through_conv_layer = conv_layer(random_tensor)\n",
        "print(f\"Random tensor through conv layer shape: {random_tensor_through_conv_layer.shape}\")"
      ],
      "metadata": {
        "colab": {
          "base_uri": "https://localhost:8080/"
        },
        "id": "Ug1R2Z7H1lRE",
        "outputId": "98bce22d-4b69-4ab7-a68f-e865b9a42c03"
      },
      "execution_count": 38,
      "outputs": [
        {
          "output_type": "stream",
          "name": "stdout",
          "text": [
            "Random tensor original shape: torch.Size([1, 3, 64, 64])\n",
            "Random tensor through conv layer shape: torch.Size([1, 64, 32, 32])\n"
          ]
        }
      ]
    },
    {
      "cell_type": "markdown",
      "source": [
        "## 13. Use a model similar to the trained model_2 from notebook 03 to make predictions on the test torchvision.datasets.FashionMNIST dataset.\n",
        "* Then plot some predictions where the model was wrong alongside what the label of the image should've been.\n",
        "* After visualing these predictions do you think it's more of a modelling error or a data error?\n",
        "* As in, could the model do better or are the labels of the data too close to each other (e.g. a \"Shirt\" label is too close to \"T-shirt/top\")?"
      ],
      "metadata": {
        "id": "ORn_7qpd1xqv"
      }
    },
    {
      "cell_type": "code",
      "source": [
        "# Download FashionMNIST train & test\n",
        "from torchvision import datasets\n",
        "from torchvision import transforms\n",
        "\n",
        "fashion_mnist_train = datasets.FashionMNIST(root=\".\",\n",
        "                                            download=True,\n",
        "                                            train=True,\n",
        "                                            transform=transforms.ToTensor())\n",
        "\n",
        "fashion_mnist_test = datasets.FashionMNIST(root=\".\",\n",
        "                                           train=False,\n",
        "                                           download=True,\n",
        "                                           transform=transforms.ToTensor())\n",
        "\n",
        "len(fashion_mnist_train), len(fashion_mnist_test)"
      ],
      "metadata": {
        "colab": {
          "base_uri": "https://localhost:8080/"
        },
        "id": "qYqq1J7q5KeZ",
        "outputId": "2860c215-a26e-42f0-88e8-8cec0c87f452"
      },
      "execution_count": 39,
      "outputs": [
        {
          "output_type": "stream",
          "name": "stdout",
          "text": [
            "Downloading http://fashion-mnist.s3-website.eu-central-1.amazonaws.com/train-images-idx3-ubyte.gz\n",
            "Downloading http://fashion-mnist.s3-website.eu-central-1.amazonaws.com/train-images-idx3-ubyte.gz to ./FashionMNIST/raw/train-images-idx3-ubyte.gz\n"
          ]
        },
        {
          "output_type": "stream",
          "name": "stderr",
          "text": [
            "100%|██████████| 26421880/26421880 [00:00<00:00, 116850657.18it/s]\n"
          ]
        },
        {
          "output_type": "stream",
          "name": "stdout",
          "text": [
            "Extracting ./FashionMNIST/raw/train-images-idx3-ubyte.gz to ./FashionMNIST/raw\n",
            "\n",
            "Downloading http://fashion-mnist.s3-website.eu-central-1.amazonaws.com/train-labels-idx1-ubyte.gz\n",
            "Downloading http://fashion-mnist.s3-website.eu-central-1.amazonaws.com/train-labels-idx1-ubyte.gz to ./FashionMNIST/raw/train-labels-idx1-ubyte.gz\n"
          ]
        },
        {
          "output_type": "stream",
          "name": "stderr",
          "text": [
            "100%|██████████| 29515/29515 [00:00<00:00, 5210880.27it/s]"
          ]
        },
        {
          "output_type": "stream",
          "name": "stdout",
          "text": [
            "Extracting ./FashionMNIST/raw/train-labels-idx1-ubyte.gz to ./FashionMNIST/raw\n",
            "\n",
            "Downloading http://fashion-mnist.s3-website.eu-central-1.amazonaws.com/t10k-images-idx3-ubyte.gz\n",
            "Downloading http://fashion-mnist.s3-website.eu-central-1.amazonaws.com/t10k-images-idx3-ubyte.gz to ./FashionMNIST/raw/t10k-images-idx3-ubyte.gz\n"
          ]
        },
        {
          "output_type": "stream",
          "name": "stderr",
          "text": [
            "\n",
            "100%|██████████| 4422102/4422102 [00:00<00:00, 63272077.62it/s]\n"
          ]
        },
        {
          "output_type": "stream",
          "name": "stdout",
          "text": [
            "Extracting ./FashionMNIST/raw/t10k-images-idx3-ubyte.gz to ./FashionMNIST/raw\n",
            "\n",
            "Downloading http://fashion-mnist.s3-website.eu-central-1.amazonaws.com/t10k-labels-idx1-ubyte.gz\n",
            "Downloading http://fashion-mnist.s3-website.eu-central-1.amazonaws.com/t10k-labels-idx1-ubyte.gz to ./FashionMNIST/raw/t10k-labels-idx1-ubyte.gz\n"
          ]
        },
        {
          "output_type": "stream",
          "name": "stderr",
          "text": [
            "100%|██████████| 5148/5148 [00:00<00:00, 6796435.94it/s]\n"
          ]
        },
        {
          "output_type": "stream",
          "name": "stdout",
          "text": [
            "Extracting ./FashionMNIST/raw/t10k-labels-idx1-ubyte.gz to ./FashionMNIST/raw\n",
            "\n"
          ]
        },
        {
          "output_type": "execute_result",
          "data": {
            "text/plain": [
              "(60000, 10000)"
            ]
          },
          "metadata": {},
          "execution_count": 39
        }
      ]
    },
    {
      "cell_type": "code",
      "source": [
        "# Get the class names of the Fashion MNIST dataset\n",
        "fashion_mnist_class_names = fashion_mnist_train.classes\n",
        "fashion_mnist_class_names"
      ],
      "metadata": {
        "colab": {
          "base_uri": "https://localhost:8080/"
        },
        "id": "E1fkAvLw5g3C",
        "outputId": "2d2896df-ec00-4da5-db47-c646a2ca68fd"
      },
      "execution_count": 40,
      "outputs": [
        {
          "output_type": "execute_result",
          "data": {
            "text/plain": [
              "['T-shirt/top',\n",
              " 'Trouser',\n",
              " 'Pullover',\n",
              " 'Dress',\n",
              " 'Coat',\n",
              " 'Sandal',\n",
              " 'Shirt',\n",
              " 'Sneaker',\n",
              " 'Bag',\n",
              " 'Ankle boot']"
            ]
          },
          "metadata": {},
          "execution_count": 40
        }
      ]
    },
    {
      "cell_type": "code",
      "source": [
        "# Turn FashionMNIST datasets into dataloaders\n",
        "from torch.utils.data import DataLoader\n",
        "\n",
        "fashion_mnist_train_dataloader = DataLoader(fashion_mnist_train,\n",
        "                                            batch_size=32,\n",
        "                                            shuffle=True)\n",
        "\n",
        "fashion_mnist_test_dataloader = DataLoader(fashion_mnist_test,\n",
        "                                           batch_size=32,\n",
        "                                           shuffle=False)\n",
        "\n",
        "len(fashion_mnist_train_dataloader), len(fashion_mnist_test_dataloader)"
      ],
      "metadata": {
        "colab": {
          "base_uri": "https://localhost:8080/"
        },
        "id": "LPvZt7II5uWH",
        "outputId": "3dc751e3-ccbd-4318-aa0b-bce3161585e6"
      },
      "execution_count": 41,
      "outputs": [
        {
          "output_type": "execute_result",
          "data": {
            "text/plain": [
              "(1875, 313)"
            ]
          },
          "metadata": {},
          "execution_count": 41
        }
      ]
    },
    {
      "cell_type": "code",
      "source": [
        "# model_2 is the same architecture as MNIST_model\n",
        "model_2 = MNIST_model(input_shape=1,\n",
        "                      hidden_units=10,\n",
        "                      output_shape=10).to(device)\n",
        "model_2"
      ],
      "metadata": {
        "colab": {
          "base_uri": "https://localhost:8080/"
        },
        "id": "2ux-InJZ6FB1",
        "outputId": "a4d430d6-0a23-4d47-b183-c36e7a3e74da"
      },
      "execution_count": 42,
      "outputs": [
        {
          "output_type": "execute_result",
          "data": {
            "text/plain": [
              "MNIST_model(\n",
              "  (conv_block_1): Sequential(\n",
              "    (0): Conv2d(1, 10, kernel_size=(3, 3), stride=(1, 1), padding=(1, 1))\n",
              "    (1): ReLU()\n",
              "    (2): Conv2d(10, 10, kernel_size=(3, 3), stride=(1, 1), padding=(1, 1))\n",
              "    (3): ReLU()\n",
              "    (4): MaxPool2d(kernel_size=2, stride=2, padding=0, dilation=1, ceil_mode=False)\n",
              "  )\n",
              "  (conv_block_2): Sequential(\n",
              "    (0): Conv2d(10, 10, kernel_size=(3, 3), stride=(1, 1), padding=(1, 1))\n",
              "    (1): ReLU()\n",
              "    (2): Conv2d(10, 10, kernel_size=(3, 3), stride=(1, 1), padding=(1, 1))\n",
              "    (3): ReLU()\n",
              "    (4): MaxPool2d(kernel_size=2, stride=2, padding=0, dilation=1, ceil_mode=False)\n",
              "  )\n",
              "  (classifier): Sequential(\n",
              "    (0): Flatten(start_dim=1, end_dim=-1)\n",
              "    (1): Linear(in_features=490, out_features=10, bias=True)\n",
              "  )\n",
              ")"
            ]
          },
          "metadata": {},
          "execution_count": 42
        }
      ]
    },
    {
      "cell_type": "code",
      "source": [
        "# Setup loss and optimizer\n",
        "from torch import nn\n",
        "loss_fn = nn.CrossEntropyLoss()\n",
        "optimizer = torch.optim.SGD(model_2.parameters(), lr=0.01)"
      ],
      "metadata": {
        "id": "aeT0jGkZ54-v"
      },
      "execution_count": 43,
      "outputs": []
    },
    {
      "cell_type": "code",
      "source": [
        "# Setup metrics\n",
        "from tqdm.auto import tqdm\n",
        "from torchmetrics import Accuracy\n",
        "\n",
        "acc_fn = Accuracy(num_classes=len(fashion_mnist_class_names), task=\"multiclass\").to(device)\n",
        "\n",
        "# Setup training/testing loop\n",
        "epochs = 5\n",
        "for epoch in tqdm(range(epochs)):\n",
        "  train_loss, test_loss_total = 0, 0\n",
        "  train_acc, test_acc = 0, 0\n",
        "\n",
        "  ### Training\n",
        "  model_2.train()\n",
        "  for batch, (X_train, y_train) in enumerate(fashion_mnist_train_dataloader):\n",
        "    X_train, y_train = X_train.to(device), y_train.to(device)\n",
        "\n",
        "    # Forward pass and loss\n",
        "    y_pred = model_2(X_train)\n",
        "    loss = loss_fn(y_pred, y_train)\n",
        "    train_loss += loss\n",
        "    train_acc += acc_fn(y_pred, y_train)\n",
        "\n",
        "    # Backprop and gradient descent\n",
        "    optimizer.zero_grad()\n",
        "    loss.backward()\n",
        "    optimizer.step()\n",
        "\n",
        "  # Adjust the loss/acc (find the loss/acc per epoch)\n",
        "  train_loss /= len(fashion_mnist_train_dataloader)\n",
        "  train_acc /= len(fashion_mnist_train_dataloader)\n",
        "\n",
        "  ### Testing\n",
        "  model_2.eval()\n",
        "  with torch.inference_mode():\n",
        "    for batch, (X_test, y_test) in enumerate(fashion_mnist_test_dataloader):\n",
        "      X_test, y_test = X_test.to(device), y_test.to(device)\n",
        "\n",
        "      # Forward pass and loss\n",
        "      y_pred_test = model_2(X_test)\n",
        "      test_loss = loss_fn(y_pred_test, y_test)\n",
        "      test_loss_total += test_loss\n",
        "\n",
        "      test_acc += acc_fn(y_pred_test, y_test)\n",
        "\n",
        "    # Adjust the loss/acc (find the loss/acc per epoch)\n",
        "    test_loss /= len(fashion_mnist_test_dataloader)\n",
        "    test_acc /= len(fashion_mnist_test_dataloader)\n",
        "\n",
        "  # Print out what's happening\n",
        "  print(f\"Epoch: {epoch} | Train loss: {train_loss:.3f} | Train acc: {train_acc:.2f} | Test loss: {test_loss_total:.3f} | Test acc: {test_acc:.2f}\")\n"
      ],
      "metadata": {
        "colab": {
          "base_uri": "https://localhost:8080/",
          "height": 138,
          "referenced_widgets": [
            "e1addf367f9d4499a603403d04b214ed",
            "cf79cc9863114f58954cb116ea7a53ea",
            "e50c7e581f42469884d2a85786c32160",
            "1322d708d5a14f07b8243205a5733a9d",
            "e630fa14072240acbd92d15bd10e3d5b",
            "2ed03a45ced04262afa89dd21c268b18",
            "e31fe4c21f404fe8bfa53d8016f4fdec",
            "31291829af254e19ba2b27da9ff40f9a",
            "31bc4948fef74a3b9dee8bcd67591b54",
            "b11cb63e644c41f388a75dac5dc0bcdc",
            "3684599371c0405587b58ec93d075703"
          ]
        },
        "id": "socrvzhV6VNO",
        "outputId": "18361081-68ae-4411-b693-1cfd4aea7564"
      },
      "execution_count": 45,
      "outputs": [
        {
          "output_type": "display_data",
          "data": {
            "text/plain": [
              "  0%|          | 0/5 [00:00<?, ?it/s]"
            ],
            "application/vnd.jupyter.widget-view+json": {
              "version_major": 2,
              "version_minor": 0,
              "model_id": "e1addf367f9d4499a603403d04b214ed"
            }
          },
          "metadata": {}
        },
        {
          "output_type": "stream",
          "name": "stdout",
          "text": [
            "Epoch: 0 | Train loss: 1.382 | Train acc: 0.49 | Test loss: 239.293 | Test acc: 0.70\n",
            "Epoch: 1 | Train loss: 0.504 | Train acc: 0.82 | Test loss: 145.660 | Test acc: 0.84\n",
            "Epoch: 2 | Train loss: 0.429 | Train acc: 0.85 | Test loss: 134.006 | Test acc: 0.85\n",
            "Epoch: 3 | Train loss: 0.391 | Train acc: 0.86 | Test loss: 128.367 | Test acc: 0.85\n",
            "Epoch: 4 | Train loss: 0.364 | Train acc: 0.87 | Test loss: 118.787 | Test acc: 0.87\n"
          ]
        }
      ]
    },
    {
      "cell_type": "code",
      "source": [
        "# Make predictions with trained model_2\n",
        "test_preds = []\n",
        "model_2.eval()\n",
        "with torch.inference_mode():\n",
        "  for X_test, y_test in tqdm(fashion_mnist_test_dataloader):\n",
        "    y_logits = model_2(X_test.to(device))\n",
        "    y_pred_probs = torch.softmax(y_logits, dim=1)\n",
        "    y_pred_labels = torch.argmax(y_pred_probs, dim=1)\n",
        "    test_preds.append(y_pred_labels)\n",
        "test_preds = torch.cat(test_preds).cpu() # matplotlib likes CPU\n",
        "test_preds[:10], len(test_preds)"
      ],
      "metadata": {
        "colab": {
          "base_uri": "https://localhost:8080/",
          "height": 67,
          "referenced_widgets": [
            "e26076e1735e4acb91f35d19cff2c25f",
            "edf209a5b4c64103818724177bcf6b5f",
            "f2f7d173ab6545dba46a1881fe039d14",
            "c11de9f6808e44278aad8d1bec24d0ca",
            "c2fc2f10631a4d06b4d7ac0312029e66",
            "deb30e704f434177847778b0ccadee6a",
            "cc87561568eb450098c0bc26caecad6c",
            "1e83d92567a24c1aaba57d907d5dfba4",
            "24ad8906e39a45ed94d9b47c1afaef7a",
            "73d642d7b82248d6822330a961a35980",
            "a6eea4bd097342b2ae68370853cab31c"
          ]
        },
        "id": "dOuM2ee26vo7",
        "outputId": "b12fcbe6-c0ba-4acd-859a-fd4e1683a190"
      },
      "execution_count": 46,
      "outputs": [
        {
          "output_type": "display_data",
          "data": {
            "text/plain": [
              "  0%|          | 0/313 [00:00<?, ?it/s]"
            ],
            "application/vnd.jupyter.widget-view+json": {
              "version_major": 2,
              "version_minor": 0,
              "model_id": "e26076e1735e4acb91f35d19cff2c25f"
            }
          },
          "metadata": {}
        },
        {
          "output_type": "execute_result",
          "data": {
            "text/plain": [
              "(tensor([9, 2, 1, 1, 6, 1, 4, 6, 5, 7]), 10000)"
            ]
          },
          "metadata": {},
          "execution_count": 46
        }
      ]
    },
    {
      "cell_type": "code",
      "source": [
        "# Get wrong prediction indexes\n",
        "import numpy as np\n",
        "wrong_pred_indexes = np.where(test_preds != fashion_mnist_test.targets)[0]\n",
        "len(wrong_pred_indexes)\n"
      ],
      "metadata": {
        "colab": {
          "base_uri": "https://localhost:8080/"
        },
        "id": "HPy-tnuF62DB",
        "outputId": "69af82c6-ddf1-4463-fc19-6a2e45c2b0e5"
      },
      "execution_count": 47,
      "outputs": [
        {
          "output_type": "execute_result",
          "data": {
            "text/plain": [
              "1307"
            ]
          },
          "metadata": {},
          "execution_count": 47
        }
      ]
    },
    {
      "cell_type": "code",
      "source": [
        "# Select random 9 wrong predictions and plot them\n",
        "import random\n",
        "random_selection = random.sample(list(wrong_pred_indexes), k=9)\n",
        "\n",
        "plt.figure(figsize=(10, 10))\n",
        "for i, idx in enumerate(random_selection):\n",
        "  # Get true and pred labels\n",
        "  true_label = fashion_mnist_class_names[fashion_mnist_test[idx][1]]\n",
        "  pred_label = fashion_mnist_class_names[test_preds[idx]]\n",
        "\n",
        "  # Plot the wrong prediction with its original label\n",
        "  plt.subplot(3, 3, i+1)\n",
        "  plt.imshow(fashion_mnist_test[idx][0].squeeze(), cmap=\"gray\")\n",
        "  plt.title(f\"True: {true_label} | Pred: {pred_label}\", c=\"r\")\n",
        "  plt.axis(False);"
      ],
      "metadata": {
        "colab": {
          "base_uri": "https://localhost:8080/",
          "height": 829
        },
        "id": "2_OC2Q6D7MA5",
        "outputId": "8a6c8107-918d-495d-a942-c7fad9bc70aa"
      },
      "execution_count": 48,
      "outputs": [
        {
          "output_type": "display_data",
          "data": {
            "text/plain": [
              "<Figure size 1000x1000 with 9 Axes>"
            ],
            "image/png": "[encoded data removed]"
          },
          "metadata": {}
        }
      ]
    },
    {
      "cell_type": "markdown",
      "source": [
        "It looks like there is compusion on some of these predictions, the model get compused as i do.\n",
        "\n",
        "For example, it predicts \"Sandal \" as \"Sneaker\" while it is clearly being a \"Sneaker\".\n",
        "\n",
        "The confusion is among the classes of \"Shirt\", many of the examples here look similar."
      ],
      "metadata": {
        "id": "rqxBLumutFT1"
      }
    }
  ]
}